{
 "cells": [
  {
   "cell_type": "code",
   "execution_count": 35,
   "metadata": {
    "collapsed": false
   },
   "outputs": [],
   "source": [
    "%matplotlib inline\n",
    "import pandas as pd\n",
    "import numpy as np\n",
    "import os\n",
    "#os.chdir(\"C:/Users/jiang/Documents/kaggle\")\n",
    "# os.chdir(\"../data/\")\n",
    "import matplotlib.pyplot as plt\n",
    "from sklearn.model_selection import train_test_split\n",
    "from sklearn.metrics import log_loss"
   ]
  },
  {
   "cell_type": "code",
   "execution_count": 36,
   "metadata": {
    "collapsed": true
   },
   "outputs": [],
   "source": [
    "from sklearn.linear_model import LogisticRegression\n",
    "from sklearn.neighbors import KNeighborsClassifier\n",
    "from sklearn.ensemble import RandomForestClassifier, AdaBoostClassifier\n",
    "from sklearn.naive_bayes import GaussianNB"
   ]
  },
  {
   "cell_type": "markdown",
   "metadata": {},
   "source": [
    "# 1. Grabbing the features"
   ]
  },
  {
   "cell_type": "code",
   "execution_count": 12,
   "metadata": {
    "collapsed": false
   },
   "outputs": [],
   "source": [
    "df = pd.read_json(\"train.json\")"
   ]
  },
  {
   "cell_type": "markdown",
   "metadata": {},
   "source": [
    "### Engineering naive numerical features\n",
    "* num photos\n",
    "* num description\n",
    "* year, month, day"
   ]
  },
  {
   "cell_type": "code",
   "execution_count": 22,
   "metadata": {
    "collapsed": false
   },
   "outputs": [
    {
     "data": {
      "text/html": [
       "<div>\n",
       "<table border=\"1\" class=\"dataframe\">\n",
       "  <thead>\n",
       "    <tr style=\"text-align: right;\">\n",
       "      <th></th>\n",
       "      <th>photos</th>\n",
       "      <th>features</th>\n",
       "      <th>description</th>\n",
       "      <th>created</th>\n",
       "    </tr>\n",
       "  </thead>\n",
       "  <tbody>\n",
       "    <tr>\n",
       "      <th>10</th>\n",
       "      <td>[https://photos.renthop.com/2/7211212_1ed4542e...</td>\n",
       "      <td>[]</td>\n",
       "      <td>A Brand New 3 Bedroom 1.5 bath ApartmentEnjoy ...</td>\n",
       "      <td>2016-06-24 07:54:24</td>\n",
       "    </tr>\n",
       "    <tr>\n",
       "      <th>10000</th>\n",
       "      <td>[https://photos.renthop.com/2/7150865_be3306c5...</td>\n",
       "      <td>[Doorman, Elevator, Fitness Center, Cats Allow...</td>\n",
       "      <td></td>\n",
       "      <td>2016-06-12 12:19:27</td>\n",
       "    </tr>\n",
       "    <tr>\n",
       "      <th>100004</th>\n",
       "      <td>[https://photos.renthop.com/2/6887163_de85c427...</td>\n",
       "      <td>[Laundry In Building, Dishwasher, Hardwood Flo...</td>\n",
       "      <td>Top Top West Village location, beautiful Pre-w...</td>\n",
       "      <td>2016-04-17 03:26:41</td>\n",
       "    </tr>\n",
       "    <tr>\n",
       "      <th>100007</th>\n",
       "      <td>[https://photos.renthop.com/2/6888711_6e660cee...</td>\n",
       "      <td>[Hardwood Floors, No Fee]</td>\n",
       "      <td>Building Amenities - Garage - Garden - fitness...</td>\n",
       "      <td>2016-04-18 02:22:02</td>\n",
       "    </tr>\n",
       "    <tr>\n",
       "      <th>100013</th>\n",
       "      <td>[https://photos.renthop.com/2/6934781_1fa4b41a...</td>\n",
       "      <td>[Pre-War]</td>\n",
       "      <td>Beautifully renovated 3 bedroom flex 4 bedroom...</td>\n",
       "      <td>2016-04-28 01:32:41</td>\n",
       "    </tr>\n",
       "  </tbody>\n",
       "</table>\n",
       "</div>"
      ],
      "text/plain": [
       "                                                   photos  \\\n",
       "10      [https://photos.renthop.com/2/7211212_1ed4542e...   \n",
       "10000   [https://photos.renthop.com/2/7150865_be3306c5...   \n",
       "100004  [https://photos.renthop.com/2/6887163_de85c427...   \n",
       "100007  [https://photos.renthop.com/2/6888711_6e660cee...   \n",
       "100013  [https://photos.renthop.com/2/6934781_1fa4b41a...   \n",
       "\n",
       "                                                 features  \\\n",
       "10                                                     []   \n",
       "10000   [Doorman, Elevator, Fitness Center, Cats Allow...   \n",
       "100004  [Laundry In Building, Dishwasher, Hardwood Flo...   \n",
       "100007                          [Hardwood Floors, No Fee]   \n",
       "100013                                          [Pre-War]   \n",
       "\n",
       "                                              description              created  \n",
       "10      A Brand New 3 Bedroom 1.5 bath ApartmentEnjoy ...  2016-06-24 07:54:24  \n",
       "10000                                                      2016-06-12 12:19:27  \n",
       "100004  Top Top West Village location, beautiful Pre-w...  2016-04-17 03:26:41  \n",
       "100007  Building Amenities - Garage - Garden - fitness...  2016-04-18 02:22:02  \n",
       "100013  Beautifully renovated 3 bedroom flex 4 bedroom...  2016-04-28 01:32:41  "
      ]
     },
     "execution_count": 22,
     "metadata": {},
     "output_type": "execute_result"
    }
   ],
   "source": [
    "# raw data\n",
    "df[[\"photos\", \"features\", \"description\", \"created\"]].head(5)"
   ]
  },
  {
   "cell_type": "code",
   "execution_count": 28,
   "metadata": {
    "collapsed": true
   },
   "outputs": [],
   "source": [
    "df[\"num_photos\"] = df[\"photos\"].apply(len)\n",
    "df[\"num_features\"] = df[\"features\"].apply(len)\n",
    "df[\"num_description_words\"] = df[\"description\"].apply(lambda x: len(x.split(\" \")))\n",
    "df[\"created\"] = pd.to_datetime(df[\"created\"])\n",
    "df[\"created_year\"] = df[\"created\"].dt.year\n",
    "df[\"created_month\"] = df[\"created\"].dt.month\n",
    "df[\"created_day\"] = df[\"created\"].dt.day\n",
    "df[\"created_hour\"] = df[\"created\"].dt.hour"
   ]
  },
  {
   "cell_type": "code",
   "execution_count": 29,
   "metadata": {
    "collapsed": true
   },
   "outputs": [],
   "source": [
    "num_feats = [\"bathrooms\", \"bedrooms\", \"latitude\", \"longitude\", \"price\",\n",
    "             \"num_photos\", \"num_features\", \"num_description_words\",\n",
    "             \"created_year\", \"created_month\", \"created_day\", \"created_hour\"]\n",
    "X = df[num_feats]"
   ]
  },
  {
   "cell_type": "code",
   "execution_count": 31,
   "metadata": {
    "collapsed": true
   },
   "outputs": [],
   "source": [
    "target_num_map = {'high':0, 'medium':1, 'low':2}\n",
    "y = np.array(df['interest_level'].apply(lambda x: target_num_map[x]))"
   ]
  },
  {
   "cell_type": "code",
   "execution_count": 32,
   "metadata": {
    "collapsed": true
   },
   "outputs": [],
   "source": [
    "X_train, X_val, y_train, y_val = train_test_split(X, y, test_size=0.33)"
   ]
  },
  {
   "cell_type": "markdown",
   "metadata": {},
   "source": [
    "# 2. Run simple benchmarks"
   ]
  },
  {
   "cell_type": "code",
   "execution_count": 50,
   "metadata": {
    "collapsed": false
   },
   "outputs": [],
   "source": [
    "names = [\"kNN\", \"LR\", \"Random Forest\", \"AdaBoost\", \"NB\"]\n",
    "classifiers = [\n",
    "    KNeighborsClassifier(5),\n",
    "    LogisticRegression(solver=\"newton-cg\"),\n",
    "    RandomForestClassifier(n_estimators=100),\n",
    "    AdaBoostClassifier(n_estimators=100),\n",
    "    GaussianNB()\n",
    "]\n",
    "clf_dict = dict(zip(names, classifiers))"
   ]
  },
  {
   "cell_type": "code",
   "execution_count": 51,
   "metadata": {
    "collapsed": false
   },
   "outputs": [
    {
     "name": "stdout",
     "output_type": "stream",
     "text": [
      "kNN 3.74806197286\n",
      "LR 0.709856631146\n",
      "Random Forest 0.654073964075\n",
      "AdaBoost 1.08357345798\n",
      "NB 2.04172059919\n"
     ]
    }
   ],
   "source": [
    "for name, clf in zip(names, classifiers):\n",
    "    clf.fit(X_train, y_train)\n",
    "    print name, log_loss(y_val, clf.predict_proba(X_val))"
   ]
  },
  {
   "cell_type": "code",
   "execution_count": 58,
   "metadata": {
    "collapsed": false
   },
   "outputs": [
    {
     "name": "stdout",
     "output_type": "stream",
     "text": [
      "[('bathrooms', 0.012964994348257692), ('bedrooms', 0.046595146765329318), ('latitude', 0.12674910378669293), ('longitude', 0.12597103628167378), ('price', 0.1765267381267098), ('num_photos', 0.080776097917591369), ('num_features', 0.080974005720733711), ('num_description_words', 0.12568365095133305), ('created_year', 0.0), ('created_month', 0.036180913869593601), ('created_day', 0.10163371170065742), ('created_hour', 0.085944600531427329)]\n",
      "[('bathrooms', 0.01), ('bedrooms', 0.14000000000000001), ('latitude', 0.17000000000000001), ('longitude', 0.11), ('price', 0.32000000000000001), ('num_photos', 0.059999999999999998), ('num_features', 0.059999999999999998), ('num_description_words', 0.050000000000000003), ('created_year', 0.0), ('created_month', 0.0), ('created_day', 0.01), ('created_hour', 0.070000000000000007)]\n"
     ]
    }
   ],
   "source": [
    "# basically shows that price and location are the most important feats\n",
    "print zip(num_feats, clf_dict[\"Random Forest\"].feature_importances_)\n",
    "print zip(num_feats, clf_dict[\"AdaBoost\"].feature_importances_)"
   ]
  },
  {
   "cell_type": "code",
   "execution_count": null,
   "metadata": {
    "collapsed": true
   },
   "outputs": [],
   "source": []
  },
  {
   "cell_type": "markdown",
   "metadata": {},
   "source": [
    "### Thoughts\n",
    "* kNN and NB are both not optimized to reduce logloss\n",
    "    * kNN predicts discrete values...\n",
    "    * NB is not calibrated (but I am too lazy to do something like Platt's scaling atm)\n",
    "* LR did well\n",
    "* RD did better than LR as expected\n",
    "* Boosting prob both underperformed due to overfitting?\n",
    "    * note: boosting prob has a lot more potential (but I am too versed in its hyperparam tuning)"
   ]
  },
  {
   "cell_type": "code",
   "execution_count": null,
   "metadata": {
    "collapsed": true
   },
   "outputs": [],
   "source": []
  }
 ],
 "metadata": {
  "kernelspec": {
   "display_name": "Python 2",
   "language": "python",
   "name": "python2"
  },
  "language_info": {
   "codemirror_mode": {
    "name": "ipython",
    "version": 2
   },
   "file_extension": ".py",
   "mimetype": "text/x-python",
   "name": "python",
   "nbconvert_exporter": "python",
   "pygments_lexer": "ipython2",
   "version": "2.7.12"
  }
 },
 "nbformat": 4,
 "nbformat_minor": 2
}
