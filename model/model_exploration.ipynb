{
 "cells": [
  {
   "cell_type": "markdown",
   "metadata": {},
   "source": [
    "The goal of this analysis is to find the most popular real estate neighborhood in the New York City."
   ]
  },
  {
   "cell_type": "markdown",
   "metadata": {},
   "source": [
    "step1: read all the data"
   ]
  },
  {
   "cell_type": "code",
   "execution_count": 276,
   "metadata": {
    "collapsed": true
   },
   "outputs": [],
   "source": [
    "from sklearn.linear_model import LogisticRegression\n",
    "from sklearn.feature_extraction.text import TfidfVectorizer\n",
    "from sklearn.feature_extraction.text import CountVectorizer\n",
    "import matplotlib.pyplot as plt\n",
    "from sklearn.decomposition import TruncatedSVD\n",
    "from sklearn.ensemble import GradientBoostingClassifier\n",
    "from sklearn.neighbors import DistanceMetric\n",
    "from sklearn.model_selection import GridSearchCV"
   ]
  },
  {
   "cell_type": "code",
   "execution_count": 1,
   "metadata": {
    "collapsed": true
   },
   "outputs": [],
   "source": [
    "import os\n",
    "import json\n",
    "\n",
    "\n",
    "import pandas as pd\n",
    "import numpy as np\n",
    "#os.chdir(\"C:/Users/jiang/Documents/kaggle\")\n",
    "import matplotlib.pyplot as plt\n",
    "train_df = pd.read_json(\"train.json\")\n"
   ]
  },
  {
   "cell_type": "markdown",
   "metadata": {},
   "source": [
    "step2: extract the longtitude and latitude info"
   ]
  },
  {
   "cell_type": "code",
   "execution_count": 2,
   "metadata": {
    "collapsed": true
   },
   "outputs": [],
   "source": [
    "train_coords = train_df[[\"listing_id\", \"latitude\", \"longitude\"]]\n",
    "lat= []\n",
    "lon = []\n",
    "listings = []\n",
    "\n",
    "for i, j in train_coords.iterrows():\n",
    "    lat.append(j[\"latitude\"])\n",
    "    lon.append(j[\"longitude\"])\n",
    "    listings.append(int(j[\"listing_id\"]))"
   ]
  },
  {
   "cell_type": "markdown",
   "metadata": {},
   "source": [
    "step3:identify the zipcode of the listing from the lon and lat"
   ]
  },
  {
   "cell_type": "code",
   "execution_count": 3,
   "metadata": {
    "collapsed": true
   },
   "outputs": [],
   "source": [
    "from uszipcode import ZipcodeSearchEngine\n",
    "search = ZipcodeSearchEngine()\n",
    "\n",
    "res = []\n",
    "for i in range(len(listings)):\n",
    "    try:\n",
    "        res.append([listings[i],search.by_coordinate(lat[i], lon[i], radius=1, returns=1)[0]['Zipcode']])\n",
    "    except:\n",
    "        continue\n",
    "nbd_df = pd.DataFrame(res, columns = ['listing_id','zipcode'])"
   ]
  },
  {
   "cell_type": "markdown",
   "metadata": {},
   "source": [
    "step4:get the neigborhood info from the csv file"
   ]
  },
  {
   "cell_type": "code",
   "execution_count": 4,
   "metadata": {
    "collapsed": true
   },
   "outputs": [],
   "source": [
    "zip_n = pd.read_csv(\"C:\\Users\\jiang\\Documents\\kaggle\\zip_n.csv\",header =0 )\n",
    "zip_n['zipcode'] = zip_n.apply(lambda row: str(row.zipcode), axis=1)\n"
   ]
  },
  {
   "cell_type": "markdown",
   "metadata": {},
   "source": [
    "step5:merge data together"
   ]
  },
  {
   "cell_type": "code",
   "execution_count": 22,
   "metadata": {
    "collapsed": false
   },
   "outputs": [],
   "source": [
    "train_df = train_df.merge(nbd_df, left_on='listing_id', right_on='listing_id', how='left')\n",
    "train_df = train_df.merge(zip_n, left_on='zipcode', right_on='zipcode', how='left')  "
   ]
  },
  {
   "cell_type": "code",
   "execution_count": null,
   "metadata": {
    "collapsed": true
   },
   "outputs": [],
   "source": [
    "train_df['interest'] = train_df.interest_level == 'high'\n",
    "interest_high = train_df.groupby('neighborhood')['interest'].mean()\n",
    "list_count = train_df.groupby('neighborhood')['neighborhood'].count()"
   ]
  },
  {
   "cell_type": "markdown",
   "metadata": {},
   "source": [
    "step5:print the top 5 neighborhood. There are a few neighborhood with very few listing, which may inflate the ratio of high interest listing. I am only looking at neighborhood with more than 100 listing."
   ]
  },
  {
   "cell_type": "code",
   "execution_count": 11,
   "metadata": {
    "collapsed": false,
    "scrolled": true
   },
   "outputs": [
    {
     "data": {
      "text/plain": [
       "neighborhood\n",
       "Kew Gardens             0.283019\n",
       "Crown Heights North     0.267241\n",
       "Beverley Square West    0.192893\n",
       "Flatbush                0.192893\n",
       "Ditmas Park West        0.192893\n",
       "Name: interest, dtype: float64"
      ]
     },
     "execution_count": 11,
     "metadata": {},
     "output_type": "execute_result"
    }
   ],
   "source": [
    "interest_high[list_count > 100].sort_values(ascending=False).head(5)"
   ]
  },
  {
   "cell_type": "code",
   "execution_count": 13,
   "metadata": {
    "collapsed": false
   },
   "outputs": [
    {
     "data": {
      "image/png": "[encoded data removed]",
      "text/plain": [
       "<matplotlib.figure.Figure at 0x28ce7f60>"
      ]
     },
     "metadata": {},
     "output_type": "display_data"
    }
   ],
   "source": [
    "interest_high[list_count > 100].sort_values(ascending=False).head(5).plot()  \n",
    "plt.show()"
   ]
  },
  {
   "cell_type": "markdown",
   "metadata": {},
   "source": [
    "## Description analysis"
   ]
  },
  {
   "cell_type": "code",
   "execution_count": 2,
   "metadata": {
    "collapsed": false
   },
   "outputs": [
    {
     "data": {
      "text/plain": [
       "10        A Brand New 3 Bedroom 1.5 bath ApartmentEnjoy ...\n",
       "10000                                                      \n",
       "100004    Top Top West Village location, beautiful Pre-w...\n",
       "100007    Building Amenities - Garage - Garden - fitness...\n",
       "100013    Beautifully renovated 3 bedroom flex 4 bedroom...\n",
       "Name: description, dtype: object"
      ]
     },
     "execution_count": 2,
     "metadata": {},
     "output_type": "execute_result"
    }
   ],
   "source": [
    "train_df.description.head()"
   ]
  },
  {
   "cell_type": "markdown",
   "metadata": {},
   "source": [
    "### CounterVectorizer method"
   ]
  },
  {
   "cell_type": "code",
   "execution_count": 4,
   "metadata": {
    "collapsed": true
   },
   "outputs": [],
   "source": [
    "des = CountVectorizer()\n",
    "des_matrix = des.fit_transform(train_df.description)\n",
    "LR = LogisticRegression()\n",
    "LR.fit(des_matrix[:40000], train_df.interest_level[:40000])"
   ]
  },
  {
   "cell_type": "code",
   "execution_count": 15,
   "metadata": {
    "collapsed": false
   },
   "outputs": [
    {
     "data": {
      "text/plain": [
       "0.68808810949529509"
      ]
     },
     "execution_count": 15,
     "metadata": {},
     "output_type": "execute_result"
    }
   ],
   "source": [
    "LR.score(des_matrix[40000:], train_df.interest_level[40000:])"
   ]
  },
  {
   "cell_type": "markdown",
   "metadata": {},
   "source": [
    "Print the most import 1 gram key words in description"
   ]
  },
  {
   "cell_type": "code",
   "execution_count": 28,
   "metadata": {
    "collapsed": false,
    "scrolled": true
   },
   "outputs": [
    {
     "data": {
      "text/plain": [
       "array([u'julio', u'floorsflex', u'daniel', u'snatch', u'tuesday',\n",
       "       u'bradhurst', u'mdrn', u'adwar', u'josh', u'1750', u'anastasiia',\n",
       "       u'alex', u'ian', u'lorenzo', u'standing', u'bambi', u'partitioned',\n",
       "       u'yanell', u'488', u'1900', u'capital', u'222481', u'flawless',\n",
       "       u'frame', u'graceful', u'straight', u'3668', u'counts',\n",
       "       u'factoring', u'931', u'afternoon', u'makr', u'clear', u'50ft',\n",
       "       u'includedno', u'leroy', u'2721273', u'9993', u'stripped', u'hatch',\n",
       "       u'48th', u'source', u'bahan', u'534', u'anymore',\n",
       "       u'christiechristie', u'ashowing', u'morton', u'1bathroom', u'tom',\n",
       "       u'647', u'thisapartment', u'highways', u'evening', u'concourse',\n",
       "       u'wing', u'1650', u'kingston', u'bad', u'119426', u'franco',\n",
       "       u'jonathan', u'181', u'concessional', u'walled', u'nassau',\n",
       "       u'priceunit', u'personal', u'extras', u'nature', u'explore',\n",
       "       u'appartment', u'christie', u'competitively', u'distinguished',\n",
       "       u'omar', u'feeblocks', u'dist', u'glendale', u'speakeasy',\n",
       "       u'situation', u'8142', u'receiving', u'alomar', u'abraham',\n",
       "       u'1250sq', u'jackie', u'cuny', u'paying', u'roberts', u'unless',\n",
       "       u'arturo', u'pilates', u'amsterdam', u'doormanlive',\n",
       "       u'sullivanlicensed', u'b35', u'premise', u'gushing', u'mattresses'], \n",
       "      dtype='<U106')"
      ]
     },
     "execution_count": 28,
     "metadata": {},
     "output_type": "execute_result"
    }
   ],
   "source": [
    "np.array(des.get_feature_names())[np.argsort(LR.coef_[0])[::-1]][:100]\n"
   ]
  },
  {
   "cell_type": "markdown",
   "metadata": {},
   "source": [
    "### Tfidfvectorizer analysis"
   ]
  },
  {
   "cell_type": "code",
   "execution_count": 13,
   "metadata": {
    "collapsed": false
   },
   "outputs": [
    {
     "name": "stdout",
     "output_type": "stream",
     "text": [
      "0.700278015398\n"
     ]
    }
   ],
   "source": [
    "des_idf = TfidfVectorizer(ngram_range=(1,2), stop_words = 'english')\n",
    "des_matrix = des_idf.fit_transform(train_df.description)\n",
    "LR_idf = LogisticRegression()\n",
    "LR_idf.fit(des_matrix[:40000], train_df.interest_level[:40000])\n",
    "print LR_idf.score(des_matrix[40000:], train_df.interest_level[40000:])"
   ]
  },
  {
   "cell_type": "code",
   "execution_count": 14,
   "metadata": {
    "collapsed": false
   },
   "outputs": [
    {
     "name": "stdout",
     "output_type": "stream",
     "text": [
      "[u'included' u'studio' u'rent' u'ave' u'flex' u'utilities included'\n",
      " u'utilities' u'strong' u'income' u'astoria' u'true' u'new'\n",
      " u'personal tour' u'renovations' u'close shopping' u'2br' u'sunny'\n",
      " u'daniel' u'perfect' u'deal' u'kept' u'heat' u'apt photos' u'text' u'wing'\n",
      " u'fee' u'includes' u'situated' u'note' u'set personal' u'actual apt'\n",
      " u'value' u'best' u'2nd' u'credit' u'asap' u'floor apartment' u'beds'\n",
      " u'queen bed' u'train' u'tour today' u'queen' u'excellent location'\n",
      " u'new hardwood' u'tiled' u'fordham' u'bronx' u'kind' u'renovated' u'large'\n",
      " u'sorry' u'price' u'text set' u'bedroom elevator' u'heat water'\n",
      " u'bedrooms' u'ac' u'great price' u'br center' u'viewing contact'\n",
      " u'exclusive viewing' u'fee unit' u'true bedroom' u'gut' u'nice'\n",
      " u'spacious sunny' u'clean' u'kew' u'eat kitchen' u'new floors' u'6814'\n",
      " u'483 6814' u'steps' u'won' u'recently' u'close' u'room kitchen' u'share'\n",
      " u'quiet' u'ceramic tiled' u'300' u'water included' u'eat' u'major' u'good'\n",
      " u'jackie' u'spacious' u'station' u'table' u'right' u'3rd' u'photos br'\n",
      " u'tenant' u'james' u'font' u'text anytime' u'flushing' u'laundry floor'\n",
      " u'good credit' u'set']\n"
     ]
    }
   ],
   "source": [
    "print np.array(des_idf.get_feature_names())[np.argsort(LR_idf.coef_[0])[::-1]][:100]"
   ]
  },
  {
   "cell_type": "markdown",
   "metadata": {},
   "source": [
    "SVD analysis"
   ]
  },
  {
   "cell_type": "code",
   "execution_count": 16,
   "metadata": {
    "collapsed": false
   },
   "outputs": [
    {
     "name": "stdout",
     "output_type": "stream",
     "text": [
      "0.689157399487\n",
      "0.68872968349\n",
      "0.688195038494\n",
      "0.687232677502\n",
      "0.6874465355\n",
      "0.689371257485\n",
      "0.689371257485\n",
      "0.689371257485\n",
      "0.689371257485\n",
      "0.689371257485\n"
     ]
    }
   ],
   "source": [
    "for i in np.arange(10)+1:\n",
    "    des_idf = TfidfVectorizer(ngram_range=(1,2), stop_words = 'english')\n",
    "    des_matrix = des_idf.fit_transform(train_df.description)\n",
    "    svd = TruncatedSVD(n_components=i)\n",
    "    new_des = svd.fit_transform(des_matrix)\n",
    "    LR_idf = LogisticRegression()\n",
    "    LR_idf.fit(new_des[:40000], train_df.interest_level[:40000])\n",
    "    print LR_idf.score(new_des[40000:], train_df.interest_level[40000:])"
   ]
  },
  {
   "cell_type": "code",
   "execution_count": 17,
   "metadata": {
    "collapsed": false
   },
   "outputs": [
    {
     "name": "stdout",
     "output_type": "stream",
     "text": [
      "[ 0.01084967  0.01418261  0.01236317  0.00937116  0.00724798  0.00603212\n",
      "  0.00373745  0.00326175  0.00321599  0.0028372 ]\n"
     ]
    }
   ],
   "source": [
    "\n",
    "des_idf = TfidfVectorizer(ngram_range=(2,2), stop_words = 'english')\n",
    "des_matrix = des_idf.fit_transform(train_df.description)\n",
    "svd = TruncatedSVD(n_components=10)\n",
    "svd.fit_transform(des_matrix)\n",
    "print svd.explained_variance_ratio_"
   ]
  },
  {
   "cell_type": "markdown",
   "metadata": {},
   "source": [
    "Filter out all the digits in the description"
   ]
  },
  {
   "cell_type": "code",
   "execution_count": 18,
   "metadata": {
    "collapsed": false
   },
   "outputs": [],
   "source": [
    "from nltk.tokenize import RegexpTokenizer\n",
    "\n",
    "tokenizer = RegexpTokenizer(r'[a-zA-Z]+')"
   ]
  },
  {
   "cell_type": "code",
   "execution_count": 73,
   "metadata": {
    "collapsed": false
   },
   "outputs": [
    {
     "name": "stdout",
     "output_type": "stream",
     "text": [
      "0.696828613682\n"
     ]
    }
   ],
   "source": [
    "des_idf = TfidfVectorizer(ngram_range=(2,2), stop_words = 'english', tokenizer=tokenizer.tokenize)\n",
    "des_matrix = des_idf.fit_transform(train_df.description)\n",
    "LR_idf = LogisticRegression()\n",
    "LR_idf.fit(des_matrix[:40000], train_df.interest_level[:40000])\n",
    "print LR_idf.score(des_matrix[40000:], train_df.interest_level[40000:])"
   ]
  },
  {
   "cell_type": "code",
   "execution_count": 75,
   "metadata": {
    "collapsed": false,
    "scrolled": true
   },
   "outputs": [
    {
     "data": {
      "image/png": "[encoded data removed]",
      "text/plain": [
       "<matplotlib.figure.Figure at 0x16be7c88>"
      ]
     },
     "metadata": {},
     "output_type": "display_data"
    }
   ],
   "source": [
    "svd = TruncatedSVD(n_components=100)\n",
    "svd.fit_transform(des_matrix)\n",
    "plt.plot(np.arange(100)+1,svd.explained_variance_ratio_)\n",
    "extraticks=[8]\n",
    "plt.xticks(list(plt.xticks()[0]) + extraticks)\n",
    "plt.title(\"explained ratio vs. components\")\n",
    "plt.show()"
   ]
  },
  {
   "cell_type": "code",
   "execution_count": 78,
   "metadata": {
    "collapsed": true
   },
   "outputs": [],
   "source": [
    "svd = TruncatedSVD(n_components=8)\n",
    "description_df = pd.DataFrame(svd.fit_transform(des_matrix))"
   ]
  },
  {
   "cell_type": "code",
   "execution_count": 20,
   "metadata": {
    "collapsed": false,
    "scrolled": true
   },
   "outputs": [
    {
     "data": {
      "text/plain": [
       "array([u'utilities included', u'water included', u'heat water',\n",
       "       u'eat kitchen', u'exclusive viewing', u'close shopping',\n",
       "       u'personal tour', u'included rent', u'good credit', u'true bedroom',\n",
       "       u'queen bed', u'gut renovated', u'br center', u'viewing contact',\n",
       "       u'new hardwood', u'floor apartment', u'true br',\n",
       "       u'excellent location', u'fee unit', u'heat hot', u'th ave',\n",
       "       u'set personal', u'apt photos', u'rent stabilized', u'won t',\n",
       "       u'great price', u'tour today', u'hot water', u'actual apt',\n",
       "       u'ceramic tiled', u'free text', u'open house', u'contact eli',\n",
       "       u'new floors', u'sorry pets', u'text set', u'kew gardens',\n",
       "       u'queen beds', u'train station', u'live super', u'br kw',\n",
       "       u'spacious sunny', u'text jackie', u'room kitchen', u'steps away',\n",
       "       u'br bedrooms', u'jackie m', u'br exclusive', u'lower east',\n",
       "       u'e th', u's appliances', u'kitchen bathroom', u'huge studio',\n",
       "       u'text anytime', u'unit comes', u'text nathan', u'crown heights',\n",
       "       u'lia mor', u'bedroom elevator', u'spacious studio',\n",
       "       u'price studio', u'bedrooms br', u'bars restaurants',\n",
       "       u'contact alex', u'new renovations', u'living room',\n",
       "       u'just renovated', u'laundry floor', u'pets br', u'amazing deal',\n",
       "       u'separate kitchen', u'th rd', u'contact james', u'w th',\n",
       "       u'fit queen', u'bedroom living', u'street nd', u'effective rent',\n",
       "       u'th nd', u'strong font', u'schedule viewing', u'located heart',\n",
       "       u'counter space', u'bathrooms new', u'walkup building',\n",
       "       u'font color', u'situated luxury', u'rd street', u'july st',\n",
       "       u'union square', u'viewing br', u'apartment asap',\n",
       "       u'bathroom kitchen', u'br neighborhood', u't long', u'room dining',\n",
       "       u'spacious kitchen', u'schedule exclusive', u'brand new',\n",
       "       u'check lovely'], \n",
       "      dtype='<U83')"
      ]
     },
     "execution_count": 20,
     "metadata": {},
     "output_type": "execute_result"
    }
   ],
   "source": [
    "np.array(des_idf.get_feature_names())[np.argsort(LR_idf.coef_[0])[::-1]][:100]"
   ]
  },
  {
   "cell_type": "markdown",
   "metadata": {},
   "source": [
    "Neighborhood factor prediction"
   ]
  },
  {
   "cell_type": "code",
   "execution_count": 23,
   "metadata": {
    "collapsed": false
   },
   "outputs": [],
   "source": [
    "train_nb = pd.get_dummies(train_df.neighborhood)"
   ]
  },
  {
   "cell_type": "code",
   "execution_count": 24,
   "metadata": {
    "collapsed": false,
    "scrolled": true
   },
   "outputs": [
    {
     "name": "stdout",
     "output_type": "stream",
     "text": [
      "0.68850303993\n"
     ]
    }
   ],
   "source": [
    "LR_nb = LogisticRegression()\n",
    "LR_nb.fit(train_nb[:40000], train_df.interest_level[:40000])\n",
    "print LR_nb.score(train_nb[40000:], train_df.interest_level[40000:])"
   ]
  },
  {
   "cell_type": "markdown",
   "metadata": {},
   "source": [
    "## City columns"
   ]
  },
  {
   "cell_type": "code",
   "execution_count": 102,
   "metadata": {
    "collapsed": true
   },
   "outputs": [],
   "source": [
    "city = []\n",
    "for i in range(len(listings)):\n",
    "    try:\n",
    "        city.append([listings[i],search.by_coordinate(lat[i], lon[i], radius=1, returns=1)[0]['City']])\n",
    "    except:\n",
    "        continue\n",
    "city_df = pd.DataFrame(city, columns = ['listing_id','city'])"
   ]
  },
  {
   "cell_type": "code",
   "execution_count": 123,
   "metadata": {
    "collapsed": false
   },
   "outputs": [],
   "source": [
    "city_dummy = pd.get_dummies(city_df)\n",
    "train_df_list = pd.DataFrame(train_df['listing_id'])\n",
    "train_df_list = train_df_list.merge(city_dummy, left_on='listing_id', right_on='listing_id', how='left')"
   ]
  },
  {
   "cell_type": "code",
   "execution_count": 135,
   "metadata": {
    "collapsed": false
   },
   "outputs": [],
   "source": [
    "train_df_list=train_df_list.fillna(0)"
   ]
  },
  {
   "cell_type": "code",
   "execution_count": 124,
   "metadata": {
    "collapsed": false
   },
   "outputs": [],
   "source": [
    "del train_df_list['listing_id']"
   ]
  },
  {
   "cell_type": "markdown",
   "metadata": {},
   "source": [
    "## Features"
   ]
  },
  {
   "cell_type": "code",
   "execution_count": 28,
   "metadata": {
    "collapsed": false,
    "scrolled": false
   },
   "outputs": [],
   "source": [
    "import scipy.sparse as sp\n",
    "feature_list = []\n",
    "for i in train_df.features:\n",
    "    feature_list.extend(i)\n",
    "names = list(set(feature_list))"
   ]
  },
  {
   "cell_type": "code",
   "execution_count": 29,
   "metadata": {
    "collapsed": true
   },
   "outputs": [],
   "source": [
    "voc2id = dict(zip(names, range(len(names))))"
   ]
  },
  {
   "cell_type": "markdown",
   "metadata": {},
   "source": [
    "convert features to sparse matrix"
   ]
  },
  {
   "cell_type": "code",
   "execution_count": 263,
   "metadata": {
    "collapsed": true
   },
   "outputs": [],
   "source": [
    "rows, cols, vals = [], [], []\n",
    "for r, d in enumerate(train_df.features):\n",
    "    for e in d:\n",
    "        if voc2id.get(e) is not None:\n",
    "            rows.append(r)\n",
    "            cols.append(voc2id[e])\n",
    "            vals.append(1)\n",
    "features = sp.csr_matrix((vals, (rows, cols)))"
   ]
  },
  {
   "cell_type": "code",
   "execution_count": 31,
   "metadata": {
    "collapsed": false
   },
   "outputs": [
    {
     "name": "stdout",
     "output_type": "stream",
     "text": [
      "0.689872377718\n"
     ]
    }
   ],
   "source": [
    "LR_features = LogisticRegression()\n",
    "LR_features.fit(features[:40000], train_df.interest_level[:40000])\n",
    "print LR_features.score(features[40000:], train_df.interest_level[40000:])"
   ]
  },
  {
   "cell_type": "code",
   "execution_count": 33,
   "metadata": {
    "collapsed": false
   },
   "outputs": [
    {
     "name": "stdout",
     "output_type": "stream",
     "text": [
      "0.688338719395\n",
      "0.688338719395\n",
      "0.688338719395\n",
      "0.688010078326\n",
      "0.688064851838\n",
      "0.688174398861\n",
      "0.688776907488\n",
      "0.689324642603\n",
      "0.689324642603\n",
      "0.688612586953\n"
     ]
    }
   ],
   "source": [
    "for i in np.arange(10)+1:\n",
    "    svd = TruncatedSVD(n_components=i)\n",
    "    new_des = svd.fit_transform(features)\n",
    "    LR_idf = LogisticRegression()\n",
    "    LR_idf.fit(new_des[:40000], train_df.interest_level[:40000])\n",
    "    print LR_idf.score(new_des[40000:], train_df.interest_level[40000:])"
   ]
  },
  {
   "cell_type": "code",
   "execution_count": 46,
   "metadata": {
    "collapsed": false,
    "scrolled": true
   },
   "outputs": [
    {
     "data": {
      "image/png": "[encoded data removed]",
      "text/plain": [
       "<matplotlib.figure.Figure at 0x1084fb00>"
      ]
     },
     "metadata": {},
     "output_type": "display_data"
    }
   ],
   "source": [
    "svd = TruncatedSVD(n_components=100)\n",
    "svd.fit_transform(features)\n",
    "plt.plot(np.arange(100)+1,svd.explained_variance_ratio_)\n",
    "extraticks=[8]\n",
    "plt.xticks(list(plt.xticks()[0]) + extraticks)\n",
    "plt.title(\"explained ratio vs. components\")\n",
    "plt.show()"
   ]
  },
  {
   "cell_type": "code",
   "execution_count": 67,
   "metadata": {
    "collapsed": true
   },
   "outputs": [],
   "source": [
    "svd = TruncatedSVD(n_components=8)\n",
    "features_svd = pd.DataFrame(svd.fit_transform(features))"
   ]
  },
  {
   "cell_type": "markdown",
   "metadata": {},
   "source": [
    "Combine all columns"
   ]
  },
  {
   "cell_type": "code",
   "execution_count": 83,
   "metadata": {
    "collapsed": false
   },
   "outputs": [
    {
     "data": {
      "text/plain": [
       "Index([      u'bathrooms',        u'bedrooms',     u'building_id',\n",
       "               u'created',     u'description', u'display_address',\n",
       "              u'features',  u'interest_level',        u'latitude',\n",
       "            u'listing_id',       u'longitude',      u'manager_id',\n",
       "                u'photos',           u'price',  u'street_address',\n",
       "             u'zipcode_x',    u'neighborhood',       u'zipcode_y',\n",
       "               u'zipcode'],\n",
       "      dtype='object')"
      ]
     },
     "execution_count": 83,
     "metadata": {},
     "output_type": "execute_result"
    }
   ],
   "source": [
    "train_df.columns"
   ]
  },
  {
   "cell_type": "code",
   "execution_count": 141,
   "metadata": {
    "collapsed": true
   },
   "outputs": [],
   "source": [
    "neighborhood_df = pd.get_dummies(train_df.neighborhood)"
   ]
  },
  {
   "cell_type": "code",
   "execution_count": 142,
   "metadata": {
    "collapsed": false
   },
   "outputs": [],
   "source": [
    "useful_df = train_df[['bathrooms','bedrooms','price']]\n",
    "frames = [useful_df, features_svd, description_df,train_df_list,neighborhood_df]\n",
    "result = pd.concat(frames, axis=1)\n",
    "result = result.fillna(0)"
   ]
  },
  {
   "cell_type": "markdown",
   "metadata": {},
   "source": [
    "Fitting model"
   ]
  },
  {
   "cell_type": "code",
   "execution_count": 143,
   "metadata": {
    "collapsed": false,
    "scrolled": false
   },
   "outputs": [
    {
     "data": {
      "text/plain": [
       "0.73204999999999998"
      ]
     },
     "execution_count": 143,
     "metadata": {},
     "output_type": "execute_result"
    }
   ],
   "source": [
    "xgb = GradientBoostingClassifier()\n",
    "xgb.fit(result[:40000], train_df.interest_level[:40000])\n",
    "xgb.score(result[40000:],train_df.interest_level[40000:])"
   ]
  },
  {
   "cell_type": "code",
   "execution_count": 144,
   "metadata": {
    "collapsed": false
   },
   "outputs": [
    {
     "data": {
      "text/plain": [
       "(58257, 346)"
      ]
     },
     "execution_count": 144,
     "metadata": {},
     "output_type": "execute_result"
    }
   ],
   "source": [
    "result.shape"
   ]
  },
  {
   "cell_type": "markdown",
   "metadata": {},
   "source": [
    "## Another way of neigborhood code\n",
    "\n",
    "I get the following neighborhood names from the Renthop nyc website. The latitude and longitude of the neigborhood is gotten with the geopy.geocodes. The correponsing neighborhood is returned by calculated the distance between the listing building and the center of the neigborhood.\n",
    "\n",
    "I notice there are some wrong records in the records, which give me a location in Chicago or even farther. I remove all listing with distance greater than 10."
   ]
  },
  {
   "cell_type": "code",
   "execution_count": 146,
   "metadata": {
    "collapsed": false
   },
   "outputs": [],
   "source": [
    "from geopy.geocoders import Nominatim"
   ]
  },
  {
   "cell_type": "code",
   "execution_count": 150,
   "metadata": {
    "collapsed": true
   },
   "outputs": [],
   "source": [
    "m_neighborhoods = ['Battery Park City','Bowery','Chinatown','Civic Center','East Village','Financial District',\n",
    "                   'Greenwich Village','Little Italy','Lower East Side','NoHo','NoLita','SoHo','Tribeca','Two Bridges',\n",
    "                   'West Village','Chelsea','Flatiron District','Garment District','Gramercy Park',\"Hell's Kitchen\",'Kips Bay',\n",
    "                   'Koreatown','Midtown East','Murray Hill','NoMad','Stuyvesant Town - Peter Cooper Village','Theater District',\n",
    "                   'Central Harlem','Central Park','East Harlem','Inwood','Upper East Side','Upper West Side',\n",
    "                   'Washington Heights','West Harlem','Randalls-Wards Island','Roosevelt Island']\n",
    "        \n",
    "b_neighborhoods = ['Bedford-Stuyvesant','Bushwick','Greenpoint','Williamsburg','Boerum Hill','Carroll Gardens','Cobble Hill',\n",
    "                   'Gowanus','Greenwood Heights','Park Slope','Prospect Park','Red Hook','Sunset Park','Windsor Terrace',\n",
    "                   'Crown Heights','East Flatbush','Flatbush','Kensington','Midwood','Ocean Hill','Brooklyn Heights',\n",
    "                   'Brooklyn Navy Yard','Clinton Hill','DUMBO','Downtown Brooklyn','Fort Greene','Prospect Heights',\n",
    "                   'Vinegar Hill','Bath Beach','Bay Ridge','Bensonhurst','Borough Park','Dyker Heights','Mapleton',\n",
    "                   'Brighton Beach','Coney Island','Gravesend','Sheepshead Bay','Brownsville','Canarsie','Cypress Hills',\n",
    "                   'East New York','Bergen Beach','Flatlands','Floyd Bennett Airfield','Marine Park','Mill Basin']\n",
    "\n",
    "q_neighborhoods = ['Astoria','Corona','East Elmhurst','Elmhurst','Forest Hills','Glendale','Jackson Heights','Long Island City',\n",
    "                   'Maspeth','Middle Village','Rego Park','Ridgewood','Sunnyside','Woodside','Auburndale','Bayside',\n",
    "                   'College Point','Flushing','Flushing Meadows-Corona Park','Fresh Meadows','Glen Oaks','Kew Gardens',\n",
    "                   'Kew Gardens Hills','Whitestone','Briarwood','Hollis','Holliswood','Jamaica','Jamaica Estates',\n",
    "                   'Jamaica Hills','South Jamaica','St. Albans','Forest Park','Howard Beach','Ozone Park','Richmond Hill',\n",
    "                   'South Ozone Park','Woodhaven','Far Rockaway','Rockaway Beach']\n",
    "\n",
    "s_neighborhoods =  ['East Shore','Mid-Island','North Shore','South Shore']\n",
    "\n",
    "bx_neighborhoods = ['Bedford Park','Belmont','Bronx Park','Concourse','Concourse Village','East Tremont','Fordham Heights',\n",
    "                    'Fordham Manor','Highbridge','Hunts Point','Kingsbridge','Longwood','Marble Hill','Morris Heights',\n",
    "                    'Morrisania','Mott Haven','Mount Eden','Mount Hope','Norwood','Riverdale','University Heights',\n",
    "                    'Van Cortlandt Park','West Farms','Allerton','Clason Point','Morris Park','Parkchester','Pelham Bay',\n",
    "                    'Pelham Parkway','Throgs Neck','Unionport','Van Nest','Wakefield','Westchester Village','Williamsbridge',\n",
    "                    'Woodlawn Heights']\n",
    "\n",
    "nj_neighborhoods = ['Bergen - Lafayette',\n",
    "                    'Greenville','Historic Downtown','McGinley Square','The Heights','The Waterfront','West Side']"
   ]
  },
  {
   "cell_type": "code",
   "execution_count": 157,
   "metadata": {
    "collapsed": false
   },
   "outputs": [],
   "source": [
    "neighborhood_list = ['m_neighborhoods','b_neighborhoods','q_neighborhoods','s_neighborhoods','bx_neighborhoods','nj_neighborhoods']\n",
    "n_dict = {'m_neighborhoods':'manhattan','b_neighborhoods':'brooklyn','q_neighborhoods':'queens',\n",
    "          's_neighborhoods':'staten island','bx_neighborhoods':'bronx','nj_neighborhoods':'new jersey'}"
   ]
  },
  {
   "cell_type": "markdown",
   "metadata": {},
   "source": [
    "Some neighborhoods cannot be automatically located through geopy. I searched it out in Google and fill it out mannualy."
   ]
  },
  {
   "cell_type": "code",
   "execution_count": 161,
   "metadata": {
    "collapsed": false
   },
   "outputs": [
    {
     "name": "stdout",
     "output_type": "stream",
     "text": [
      "m_neighborhoods:NoLita\n",
      "m_neighborhoods:Two Bridges\n",
      "m_neighborhoods:Flatiron District\n",
      "m_neighborhoods:Garment District\n",
      "m_neighborhoods:Stuyvesant Town - Peter Cooper Village\n",
      "m_neighborhoods:Randalls-Wards Island\n",
      "b_neighborhoods:Floyd Bennett Airfield\n",
      "q_neighborhoods:Jamaica Hills\n",
      "s_neighborhoods:East Shore\n",
      "s_neighborhoods:Mid-Island\n",
      "s_neighborhoods:North Shore\n",
      "s_neighborhoods:South Shore\n",
      "bx_neighborhoods:Westchester Village\n",
      "nj_neighborhoods:Bergen - Lafayette\n",
      "nj_neighborhoods:Historic Downtown\n",
      "nj_neighborhoods:McGinley Square\n",
      "nj_neighborhoods:West Side\n"
     ]
    }
   ],
   "source": [
    "neighborhood_dict= {}\n",
    "for n_list in neighborhood_list:\n",
    "    for n in eval(n_list):\n",
    "        geolocator = Nominatim()\n",
    "        location = geolocator.geocode(n+\" \"+n_dict[n_list])\n",
    "        try:\n",
    "            neighborhood_dict[n]=(location.latitude, location.longitude)\n",
    "        except:\n",
    "            print n_list +\":\"+ n\n",
    "            continue"
   ]
  },
  {
   "cell_type": "code",
   "execution_count": 163,
   "metadata": {
    "collapsed": false
   },
   "outputs": [],
   "source": [
    "neighborhood_dict['Nolita'] = (40.7230413,-73.9948607)\n",
    "neighborhood_dict['Two Bridges'] = (40.71074689999999,-73.99696)\n",
    "neighborhood_dict['Flatiron District'] = (40.74008300000001,-73.99034890000001)\n",
    "neighborhood_dict['Garment District'] = (40.7547072,-73.99163420000002)\n",
    "neighborhood_dict['Stuyvesant Town - Peter Cooper Village'] = (40.7316903,-73.97784939999997)\n",
    "neighborhood_dict['Randalls-Wards Island'] = (40.7932271,-73.92128579999996)\n",
    "neighborhood_dict['Floyd Bennett Airfield'] = (40.5910174,-73.8906091)\n",
    "neighborhood_dict['Jamaica Hills'] = (40.71280290000001,-73.79926339999997)\n",
    "neighborhood_dict['East Shore'] = (40.606221,-74.06419489999996)\n",
    "neighborhood_dict['Mid-Island'] = (40.5993847,-74.17931770000001)\n",
    "neighborhood_dict['North Shore'] =(40.62604414772478,-74.12667847936973)\n",
    "neighborhood_dict['South Shore'] = (40.531910867376595,-74.21559907263145)\n",
    "neighborhood_dict['Westchester Village'] = (40.8407103,-73.8473591)\n",
    "neighborhood_dict['Bergen - Lafayette'] =(40.71114639999999,-74.07407289999998)\n",
    "neighborhood_dict['Historic Downtown'] =(40.71114639999999,-74.07407289999998)\n",
    "neighborhood_dict['McGinley Square'] = (40.7241223,-74.06966729999999)\n",
    "neighborhood_dict['West Side'] =(40.7247507,-74.08288390000001)"
   ]
  },
  {
   "cell_type": "code",
   "execution_count": 168,
   "metadata": {
    "collapsed": true
   },
   "outputs": [],
   "source": [
    "neighborhood_df = pd.Series(neighborhood_dict)"
   ]
  },
  {
   "cell_type": "markdown",
   "metadata": {},
   "source": [
    "Calculate the distance betweent the building and the center of the neighborhood"
   ]
  },
  {
   "cell_type": "code",
   "execution_count": 244,
   "metadata": {
    "collapsed": false
   },
   "outputs": [],
   "source": [
    "dist = DistanceMetric.get_metric('euclidean')\n",
    "X = list(neighborhood_df)\n",
    "\n",
    "min_distance = np.zeros(train_df.shape[0])\n",
    "min_index = []\n",
    "count = 0\n",
    "for listing in np.array(train_df[['latitude','longitude']]) :   \n",
    "    min_distance[count] = np.min(dist.pairwise(X,[listing]), axis = 0)\n",
    "    if np.min(dist.pairwise(X,[listing]), axis = 0) < 10:\n",
    "        min_index.append(neighborhood_df.index[np.argmin(dist.pairwise(X,[listing]))])\n",
    "    else:\n",
    "        min_index.append(np.nan)\n",
    "    count += 1\n",
    "min_index = np.array(min_index)"
   ]
  },
  {
   "cell_type": "code",
   "execution_count": 251,
   "metadata": {
    "collapsed": false
   },
   "outputs": [],
   "source": [
    "n_df = pd.get_dummies(min_index)\n",
    "n_df = n_df.fillna(0)"
   ]
  },
  {
   "cell_type": "markdown",
   "metadata": {},
   "source": [
    "A brief plot of the distance (only show 16 listing with maxium distance)"
   ]
  },
  {
   "cell_type": "code",
   "execution_count": 241,
   "metadata": {
    "collapsed": false,
    "scrolled": false
   },
   "outputs": [
    {
     "data": {
      "image/png": "[encoded data removed]",
      "text/plain": [
       "<matplotlib.figure.Figure at 0x3e3577f0>"
      ]
     },
     "metadata": {},
     "output_type": "display_data"
    }
   ],
   "source": [
    "plt.plot(range(train_df.shape[0])[58240:],min_distance[58240:])\n",
    "plt.show()"
   ]
  },
  {
   "cell_type": "markdown",
   "metadata": {},
   "source": [
    "## Trying differnt kinds of input and see the accuaracy\n",
    "I try to use gridsearch for xgb. However, it is extremely slow , so I just try different combinations of the parameters"
   ]
  },
  {
   "cell_type": "code",
   "execution_count": 278,
   "metadata": {
    "collapsed": false
   },
   "outputs": [
    {
     "data": {
      "text/plain": [
       "0.7120556498877143"
      ]
     },
     "execution_count": 278,
     "metadata": {},
     "output_type": "execute_result"
    }
   ],
   "source": [
    "frames = [useful_df, features_svd, description_df]\n",
    "result = pd.concat(frames, axis=1)\n",
    "result = result.fillna(0)\n",
    "xgb = GradientBoostingClassifier()\n",
    "xgb.fit(result[:40000], train_df.interest_level[:40000])\n",
    "xgb.score(result[40000:],train_df.interest_level[40000:])"
   ]
  },
  {
   "cell_type": "code",
   "execution_count": 279,
   "metadata": {
    "collapsed": false
   },
   "outputs": [
    {
     "data": {
      "text/plain": [
       "0.71030289751875997"
      ]
     },
     "execution_count": 279,
     "metadata": {},
     "output_type": "execute_result"
    }
   ],
   "source": [
    "frames = [useful_df, features_svd,n_df]\n",
    "result = pd.concat(frames, axis=1)\n",
    "result = result.fillna(0)\n",
    "xgb = GradientBoostingClassifier()\n",
    "xgb.fit(result[:40000], train_df.interest_level[:40000])\n",
    "xgb.score(result[40000:],train_df.interest_level[40000:])"
   ]
  },
  {
   "cell_type": "code",
   "execution_count": 277,
   "metadata": {
    "collapsed": false
   },
   "outputs": [
    {
     "data": {
      "text/plain": [
       "0.71232951744536344"
      ]
     },
     "execution_count": 277,
     "metadata": {},
     "output_type": "execute_result"
    }
   ],
   "source": [
    "frames = [useful_df, features_svd, n_df,description_df]\n",
    "result = pd.concat(frames, axis=1)\n",
    "result = result.fillna(0)\n",
    "xgb = GradientBoostingClassifier()\n",
    "xgb.fit(result[:40000], train_df.interest_level[:40000])\n",
    "xgb.score(result[40000:],train_df.interest_level[40000:])"
   ]
  },
  {
   "cell_type": "code",
   "execution_count": 283,
   "metadata": {
    "collapsed": false
   },
   "outputs": [
    {
     "data": {
      "text/plain": [
       "0.72103850577860551"
      ]
     },
     "execution_count": 283,
     "metadata": {},
     "output_type": "execute_result"
    }
   ],
   "source": [
    "frames = [useful_df, features_svd, n_df,description_df]\n",
    "result = pd.concat(frames, axis=1)\n",
    "result = result.fillna(0)\n",
    "xgb = GradientBoostingClassifier(max_depth = 10)\n",
    "xgb.fit(result[:40000], train_df.interest_level[:40000])\n",
    "xgb.score(result[40000:],train_df.interest_level[40000:])"
   ]
  },
  {
   "cell_type": "code",
   "execution_count": 284,
   "metadata": {
    "collapsed": false
   },
   "outputs": [
    {
     "data": {
      "text/plain": [
       "0.7166566248562195"
      ]
     },
     "execution_count": 284,
     "metadata": {},
     "output_type": "execute_result"
    }
   ],
   "source": [
    "frames = [useful_df, features_svd, n_df,description_df]\n",
    "result = pd.concat(frames, axis=1)\n",
    "result = result.fillna(0)\n",
    "xgb = GradientBoostingClassifier(n_estimators = 300)\n",
    "xgb.fit(result[:40000], train_df.interest_level[:40000])\n",
    "xgb.score(result[40000:],train_df.interest_level[40000:])"
   ]
  },
  {
   "cell_type": "code",
   "execution_count": null,
   "metadata": {
    "collapsed": true
   },
   "outputs": [],
   "source": []
  }
 ],
 "metadata": {
  "kernelspec": {
   "display_name": "Python 2",
   "language": "python",
   "name": "python2"
  },
  "language_info": {
   "codemirror_mode": {
    "name": "ipython",
    "version": 2
   },
   "file_extension": ".py",
   "mimetype": "text/x-python",
   "name": "python",
   "nbconvert_exporter": "python",
   "pygments_lexer": "ipython2",
   "version": "2.7.13"
  }
 },
 "nbformat": 4,
 "nbformat_minor": 2
}
