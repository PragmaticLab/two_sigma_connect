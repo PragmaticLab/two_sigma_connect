{
 "cells": [
  {
   "cell_type": "markdown",
   "metadata": {},
   "source": [
    "The goal of this analysis is to find the most popular real estate neighborhood in the New York City."
   ]
  },
  {
   "cell_type": "markdown",
   "metadata": {},
   "source": [
    "step1: read all the data"
   ]
  },
  {
   "cell_type": "code",
   "execution_count": 2,
   "metadata": {
    "collapsed": false
   },
   "outputs": [],
   "source": [
    "%matplotlib inline\n",
    "from sklearn.linear_model import LogisticRegression\n",
    "from sklearn.feature_extraction.text import TfidfVectorizer\n",
    "from sklearn.feature_extraction.text import CountVectorizer\n",
    "import matplotlib.pyplot as plt\n",
    "from sklearn.decomposition import TruncatedSVD\n",
    "from sklearn.ensemble import GradientBoostingClassifier\n",
    "from sklearn.neighbors import DistanceMetric\n",
    "from sklearn.model_selection import GridSearchCV\n",
    "from sklearn.model_selection import train_test_split\n",
    "from sklearn.linear_model import LogisticRegression\n",
    "from sklearn.neighbors import KNeighborsClassifier\n",
    "from sklearn.ensemble import RandomForestClassifier, AdaBoostClassifier\n",
    "from sklearn.naive_bayes import GaussianNB\n",
    "from sklearn.metrics import log_loss"
   ]
  },
  {
   "cell_type": "code",
   "execution_count": null,
   "metadata": {
    "collapsed": false
   },
   "outputs": [],
   "source": [
    "import os\n",
    "import json\n",
    "\n",
    "\n",
    "import pandas as pd\n",
    "import numpy as np\n",
    "#os.chdir(\"C:/Users/jiang/Documents/kaggle\")\n",
    "os.chdir(\"../data/\")\n",
    "import matplotlib.pyplot as plt\n",
    "train_df = pd.read_json(\"train.json\")"
   ]
  },
  {
   "cell_type": "markdown",
   "metadata": {},
   "source": [
    "step2: extract the longtitude and latitude info"
   ]
  },
  {
   "cell_type": "code",
   "execution_count": 132,
   "metadata": {
    "collapsed": true
   },
   "outputs": [],
   "source": [
    "train_df['bedroom_combine'] = train_df['bedrooms']\n",
    "train_df.loc[train_df.bedrooms>5,'bedroom_combine'] = 5\n",
    "bedroom = train_df.groupby(['bedroom_combine','interest_level'])['interest_level'].count()\n",
    "bedroom_pcts = bedroom.groupby(level=0).apply(lambda x:\n",
    "                                                 100 * x / float(x.sum()))"
   ]
  },
  {
   "cell_type": "code",
   "execution_count": 139,
   "metadata": {
    "collapsed": false,
    "scrolled": true
   },
   "outputs": [
    {
     "data": {
      "text/plain": [
       "<matplotlib.axes._subplots.AxesSubplot at 0x27117e10>"
      ]
     },
     "execution_count": 139,
     "metadata": {},
     "output_type": "execute_result"
    },
    {
     "data": {
      "image/png": "[encoded data removed]",
      "text/plain": [
       "<matplotlib.figure.Figure at 0x69b1d9e8>"
      ]
     },
     "metadata": {},
     "output_type": "display_data"
    }
   ],
   "source": [
    "bedroom_pcts.unstack().plot.bar(stacked=True,color = ('Darkgreen','green','Lightgreen'))"
   ]
  },
  {
   "cell_type": "code",
   "execution_count": 138,
   "metadata": {
    "collapsed": false
   },
   "outputs": [
    {
     "data": {
      "text/plain": [
       "<matplotlib.axes._subplots.AxesSubplot at 0x3cca52b0>"
      ]
     },
     "execution_count": 138,
     "metadata": {},
     "output_type": "execute_result"
    },
    {
     "data": {
      "image/png": "[encoded data removed]",
      "text/plain": [
       "<matplotlib.figure.Figure at 0x22481b00>"
      ]
     },
     "metadata": {},
     "output_type": "display_data"
    }
   ],
   "source": [
    "train_df['bathrooms_combine'] = train_df['bathrooms']\n",
    "train_df.loc[train_df.bathrooms>3,'bathrooms_combine'] = 4\n",
    "bathroom = train_df.groupby(['bathrooms_combine','interest_level'])['interest_level'].count()\n",
    "bathroom_pcts = bathroom.groupby(level=0).apply(lambda x:\n",
    "                                                 100 * x / float(x.sum()))\n",
    "\n",
    "bathroom_pcts.unstack().plot.bar(stacked=True, color = ('Darkblue','blue','Lightblue'))"
   ]
  },
  {
   "cell_type": "code",
   "execution_count": 9,
   "metadata": {
    "collapsed": true
   },
   "outputs": [],
   "source": [
    "train_coords = train_df[[\"listing_id\", \"latitude\", \"longitude\"]]\n",
    "lat= []\n",
    "lon = []\n",
    "listings = []\n",
    "\n",
    "for i, j in train_coords.iterrows():\n",
    "    lat.append(j[\"latitude\"])\n",
    "    lon.append(j[\"longitude\"])\n",
    "    listings.append(int(j[\"listing_id\"]))"
   ]
  },
  {
   "cell_type": "code",
   "execution_count": null,
   "metadata": {
    "collapsed": true
   },
   "outputs": [],
   "source": []
  },
  {
   "cell_type": "markdown",
   "metadata": {},
   "source": [
    "step3:identify the zipcode of the listing from the lon and lat"
   ]
  },
  {
   "cell_type": "code",
   "execution_count": 10,
   "metadata": {
    "collapsed": false
   },
   "outputs": [],
   "source": [
    "from uszipcode import ZipcodeSearchEngine\n",
    "search = ZipcodeSearchEngine()\n",
    "\n",
    "res = []\n",
    "for i in range(len(listings)):\n",
    "    try:\n",
    "        res.append([listings[i],search.by_coordinate(lat[i], lon[i], radius=1, returns=1)[0]['Zipcode']])\n",
    "    except:\n",
    "        continue\n",
    "nbd_df = pd.DataFrame(res, columns = ['listing_id','zipcode'])"
   ]
  },
  {
   "cell_type": "markdown",
   "metadata": {},
   "source": [
    "step4:get the neigborhood info from the csv file"
   ]
  },
  {
   "cell_type": "code",
   "execution_count": 11,
   "metadata": {
    "collapsed": false,
    "scrolled": false
   },
   "outputs": [],
   "source": [
    "zip_dir=\"C:\\Users\\jiang\\Documents\\kaggle\\zip_n.csv\"\n",
    "#zip_dir=\"../eda/zip_n.csv\"\n",
    "zip_n = pd.read_csv(zip_dir,header=0, names=['zipcode', 'neighborhood'])\n",
    "zip_n['zipcode'] = zip_n.apply(lambda row: str(row.zipcode), axis=1)"
   ]
  },
  {
   "cell_type": "markdown",
   "metadata": {},
   "source": [
    "step5:merge data together"
   ]
  },
  {
   "cell_type": "code",
   "execution_count": 12,
   "metadata": {
    "collapsed": false
   },
   "outputs": [],
   "source": [
    "train_df = train_df.merge(nbd_df, left_on='listing_id', right_on='listing_id', how='left')\n",
    "train_df = train_df.merge(zip_n, left_on='zipcode', right_on='zipcode', how='left')  "
   ]
  },
  {
   "cell_type": "code",
   "execution_count": 13,
   "metadata": {
    "collapsed": true
   },
   "outputs": [],
   "source": [
    "train_df['interest'] = train_df.interest_level == 'high'\n",
    "interest_high = train_df.groupby('neighborhood')['interest'].mean()\n",
    "list_count = train_df.groupby('neighborhood')['neighborhood'].count()"
   ]
  },
  {
   "cell_type": "code",
   "execution_count": 14,
   "metadata": {
    "collapsed": false
   },
   "outputs": [
    {
     "name": "stdout",
     "output_type": "stream",
     "text": [
      "neighborhood\n",
      "Albemarle-Kenmore Terrace    197\n",
      "Arverne                        2\n",
      "Astoria                      168\n",
      "Name: neighborhood, dtype: int64\n",
      "neighborhood\n",
      "Albemarle-Kenmore Terrace    0.192893\n",
      "Arverne                      0.500000\n",
      "Astoria                      0.184524\n",
      "Name: interest, dtype: float64\n"
     ]
    }
   ],
   "source": [
    "print list_count[:3]\n",
    "print interest_high[:3]"
   ]
  },
  {
   "cell_type": "markdown",
   "metadata": {},
   "source": [
    "step5:print the top 5 neighborhood. There are a few neighborhood with very few listing, which may inflate the ratio of high interest listing. I am only looking at neighborhood with more than 100 listing."
   ]
  },
  {
   "cell_type": "code",
   "execution_count": 15,
   "metadata": {
    "collapsed": false,
    "scrolled": true
   },
   "outputs": [
    {
     "data": {
      "text/plain": [
       "neighborhood\n",
       "Kew Gardens             0.283019\n",
       "Crown Heights North     0.267241\n",
       "Beverley Square West    0.192893\n",
       "Flatbush                0.192893\n",
       "Ditmas Park West        0.192893\n",
       "Name: interest, dtype: float64"
      ]
     },
     "execution_count": 15,
     "metadata": {},
     "output_type": "execute_result"
    }
   ],
   "source": [
    "interest_high[list_count > 100].sort_values(ascending=False).head(5)"
   ]
  },
  {
   "cell_type": "code",
   "execution_count": 16,
   "metadata": {
    "collapsed": false
   },
   "outputs": [
    {
     "data": {
      "text/plain": [
       "<matplotlib.axes._subplots.AxesSubplot at 0x46d3ba8>"
      ]
     },
     "execution_count": 16,
     "metadata": {},
     "output_type": "execute_result"
    },
    {
     "data": {
      "image/png": "[encoded data removed]",
      "text/plain": [
       "<matplotlib.figure.Figure at 0x388d3dd8>"
      ]
     },
     "metadata": {},
     "output_type": "display_data"
    }
   ],
   "source": [
    "interest_high[list_count > 100].sort_values(ascending=False).head(10).plot()  "
   ]
  },
  {
   "cell_type": "markdown",
   "metadata": {},
   "source": [
    "## Description analysis"
   ]
  },
  {
   "cell_type": "code",
   "execution_count": 17,
   "metadata": {
    "collapsed": false
   },
   "outputs": [
    {
     "data": {
      "text/plain": [
       "0    A Brand New 3 Bedroom 1.5 bath ApartmentEnjoy ...\n",
       "1    A Brand New 3 Bedroom 1.5 bath ApartmentEnjoy ...\n",
       "2                                                     \n",
       "3    Top Top West Village location, beautiful Pre-w...\n",
       "4    Building Amenities - Garage - Garden - fitness...\n",
       "Name: description, dtype: object"
      ]
     },
     "execution_count": 17,
     "metadata": {},
     "output_type": "execute_result"
    }
   ],
   "source": [
    "train_df.description.head()"
   ]
  },
  {
   "cell_type": "markdown",
   "metadata": {},
   "source": [
    "### CounterVectorizer method"
   ]
  },
  {
   "cell_type": "code",
   "execution_count": 18,
   "metadata": {
    "collapsed": false
   },
   "outputs": [
    {
     "data": {
      "text/plain": [
       "(58257, 37823)"
      ]
     },
     "execution_count": 18,
     "metadata": {},
     "output_type": "execute_result"
    }
   ],
   "source": [
    "des = CountVectorizer()\n",
    "des_matrix = des.fit_transform(train_df.description)\n",
    "des_matrix.shape"
   ]
  },
  {
   "cell_type": "code",
   "execution_count": 19,
   "metadata": {
    "collapsed": false
   },
   "outputs": [
    {
     "name": "stderr",
     "output_type": "stream",
     "text": [
      "[Parallel(n_jobs=-1)]: Done   3 out of   3 | elapsed:   19.3s finished\n"
     ]
    },
    {
     "data": {
      "text/plain": [
       "LogisticRegression(C=1.0, class_weight=None, dual=False, fit_intercept=True,\n",
       "          intercept_scaling=1, max_iter=100, multi_class='ovr', n_jobs=-1,\n",
       "          penalty='l2', random_state=None, solver='newton-cg', tol=0.0001,\n",
       "          verbose=3, warm_start=False)"
      ]
     },
     "execution_count": 19,
     "metadata": {},
     "output_type": "execute_result"
    }
   ],
   "source": [
    "LR = LogisticRegression(verbose=3, solver=\"newton-cg\", n_jobs=-1)\n",
    "LR.fit(des_matrix[:40000], train_df.interest_level[:40000])"
   ]
  },
  {
   "cell_type": "code",
   "execution_count": 20,
   "metadata": {
    "collapsed": false
   },
   "outputs": [
    {
     "data": {
      "text/plain": [
       "0.67847948731993213"
      ]
     },
     "execution_count": 20,
     "metadata": {},
     "output_type": "execute_result"
    }
   ],
   "source": [
    "LR.score(des_matrix[40000:], train_df.interest_level[40000:])"
   ]
  },
  {
   "cell_type": "markdown",
   "metadata": {},
   "source": [
    "Print the most import 1 gram key words in description"
   ]
  },
  {
   "cell_type": "code",
   "execution_count": 21,
   "metadata": {
    "collapsed": false
   },
   "outputs": [
    {
     "data": {
      "text/plain": [
       "array([21517,  1258, 20398, ..., 18687, 17436, 22684], dtype=int64)"
      ]
     },
     "execution_count": 21,
     "metadata": {},
     "output_type": "execute_result"
    }
   ],
   "source": [
    "np.argsort(LR.coef_[0])[::-1]"
   ]
  },
  {
   "cell_type": "code",
   "execution_count": 22,
   "metadata": {
    "collapsed": false,
    "scrolled": true
   },
   "outputs": [
    {
     "data": {
      "text/plain": [
       "array([u'julio', u'1750', u'ian', u'arturo', u'2721273', u'flawless',\n",
       "       u'christie', u'yanell', u'exultant', u'bam', u'snatch', u'makr',\n",
       "       u'elliot', u'kw149298', u'frame', u'floorsflex', u'premise',\n",
       "       u'650350', u'loads', u'highways', u'daniel', u'easiest', u'clear',\n",
       "       u'brower', u'bradhurst', u'bambi', u'factoring', u'anastasiia',\n",
       "       u'capital', u'onur', u'ditmas', u'mina', u'tom', u'3668',\n",
       "       u'jamesia', u'missed', u'lorenzo', u'222481', u'nassau',\n",
       "       u'seperate', u'bullseye', u'canarsie', u'newby', u'9993', u'late',\n",
       "       u'1bathroom', u'alex', u'brookdale', u'counts', u'1900', u'647',\n",
       "       u'pine', u'standup', u'amsterdam', u'allowedparking', u'intact',\n",
       "       u'personal', u'534', u'mdrn', u'morton', u'everyday', u'ashowing',\n",
       "       u'afternoon', u'703', u'reputation', u'223905', u'931', u'theirs',\n",
       "       u'kw150781', u'karahat', u'extras', u'kingston', u'receiving',\n",
       "       u'background', u'tuesday', u'immunization', u'b35', u'abraham',\n",
       "       u'concourse', u'jonathan', u'situation', u'nature', u'doormanlive',\n",
       "       u'walled', u'president', u'7451', u'source', u'sweet', u'institute',\n",
       "       u'181', u'partitioned', u'priceunit', u'stripped', u'tucked',\n",
       "       u'were', u'1300', u'specializing', u'wing', u'1700', u'jade'], \n",
       "      dtype='<U106')"
      ]
     },
     "execution_count": 22,
     "metadata": {},
     "output_type": "execute_result"
    }
   ],
   "source": [
    "np.array(des.get_feature_names())[np.argsort(LR.coef_[0])[::-1]][:100]"
   ]
  },
  {
   "cell_type": "markdown",
   "metadata": {},
   "source": [
    "### Tfidfvectorizer analysis"
   ]
  },
  {
   "cell_type": "code",
   "execution_count": 23,
   "metadata": {
    "collapsed": false
   },
   "outputs": [
    {
     "name": "stdout",
     "output_type": "stream",
     "text": [
      "0.697759763378\n"
     ]
    },
    {
     "name": "stderr",
     "output_type": "stream",
     "text": [
      "[Parallel(n_jobs=-1)]: Done   3 out of   3 | elapsed:   17.1s finished\n"
     ]
    }
   ],
   "source": [
    "des_idf = TfidfVectorizer(ngram_range=(1,2), stop_words = 'english')\n",
    "des_matrix = des_idf.fit_transform(train_df.description)\n",
    "LR_idf = LogisticRegression(verbose=3, solver=\"newton-cg\", n_jobs=-1)\n",
    "LR_idf.fit(des_matrix[:40000], train_df.interest_level[:40000])\n",
    "print LR_idf.score(des_matrix[40000:], train_df.interest_level[40000:])"
   ]
  },
  {
   "cell_type": "code",
   "execution_count": 24,
   "metadata": {
    "collapsed": false,
    "scrolled": true
   },
   "outputs": [
    {
     "name": "stdout",
     "output_type": "stream",
     "text": [
      "[u'rent' u'included' u'floor apartment' u'studio' u'strong' u'income'\n",
      " u'ditmas' u'ditmas park' u'utilities included' u'new' u'fee' u'flex'\n",
      " u'utilities' u'asap' u'3rd' u'personal tour' u'sunny' u'astoria'\n",
      " u'light br' u'note' u'situated' u'true' u'br open' u'value' u'renovations'\n",
      " u'includes' u'info coming' u'gut' u'new hardwood' u'set personal' u'away'\n",
      " u'credit' u'available 2016' u'queen' u'close shopping' u'best'\n",
      " u'room kitchen' u'home available' u'share' u'renovated' u'bedrooms'\n",
      " u'text' u'located heart' u'apt photos' u'clean' u'crown heights'\n",
      " u'spacious sunny' u'great price' u'jamesia' u'daniel' u'ave' u'tour today'\n",
      " u'fee unit' u'modern studio' u'actual apt' u'email' u'exclusive viewing'\n",
      " u'deal' u'viewing contact' u'perfect' u'spacious modern' u'text set'\n",
      " u'late' u'2br' u'steps' u'table' u'queen bed' u'483 6814' u'6814' u'super'\n",
      " u'excellent location' u'gut renovated' u'info' u'charming' u'crown'\n",
      " u'spacious' u'wing' u'building maintained' u'br center' u'new floors'\n",
      " u'price' u'union' u'just renovated' u'text anytime' u'kept'\n",
      " u'true bedroom' u'eli' u'stabilized' u'fordham' u'location near' u'won'\n",
      " u'living room' u'park beautiful' u'ian' u'636 7822' u'7822' u'966 636'\n",
      " u'1br' u'kitchen bathroom' u'bronx']\n"
     ]
    }
   ],
   "source": [
    "print np.array(des_idf.get_feature_names())[np.argsort(LR_idf.coef_[0])[::-1]][:100]"
   ]
  },
  {
   "cell_type": "code",
   "execution_count": 163,
   "metadata": {
    "collapsed": false
   },
   "outputs": [
    {
     "data": {
      "text/plain": [
       "<58257x313129 sparse matrix of type '<type 'numpy.float64'>'\n",
       "\twith 3478787 stored elements in Compressed Sparse Row format>"
      ]
     },
     "execution_count": 163,
     "metadata": {},
     "output_type": "execute_result"
    }
   ],
   "source": [
    "des_matrix"
   ]
  },
  {
   "cell_type": "markdown",
   "metadata": {},
   "source": [
    "### SVD analysis\n",
    "* shows that we only need 1 SVD?"
   ]
  },
  {
   "cell_type": "code",
   "execution_count": 25,
   "metadata": {
    "collapsed": false
   },
   "outputs": [
    {
     "name": "stderr",
     "output_type": "stream",
     "text": [
      "[Parallel(n_jobs=-1)]: Done   3 out of   3 | elapsed:    0.6s finished\n"
     ]
    },
    {
     "name": "stdout",
     "output_type": "stream",
     "text": [
      "0.688174398861\n"
     ]
    },
    {
     "name": "stderr",
     "output_type": "stream",
     "text": [
      "[Parallel(n_jobs=-1)]: Done   3 out of   3 | elapsed:    0.7s finished\n"
     ]
    },
    {
     "name": "stdout",
     "output_type": "stream",
     "text": [
      "0.687955304815\n"
     ]
    },
    {
     "name": "stderr",
     "output_type": "stream",
     "text": [
      "[Parallel(n_jobs=-1)]: Done   3 out of   3 | elapsed:    0.7s finished\n"
     ]
    },
    {
     "name": "stdout",
     "output_type": "stream",
     "text": [
      "0.687298022676\n"
     ]
    },
    {
     "name": "stderr",
     "output_type": "stream",
     "text": [
      "[Parallel(n_jobs=-1)]: Done   3 out of   3 | elapsed:    0.7s finished\n"
     ]
    },
    {
     "name": "stdout",
     "output_type": "stream",
     "text": [
      "0.687188475653\n"
     ]
    },
    {
     "name": "stderr",
     "output_type": "stream",
     "text": [
      "[Parallel(n_jobs=-1)]: Done   3 out of   3 | elapsed:    0.7s finished\n"
     ]
    },
    {
     "name": "stdout",
     "output_type": "stream",
     "text": [
      "0.687626663745\n"
     ]
    },
    {
     "name": "stderr",
     "output_type": "stream",
     "text": [
      "[Parallel(n_jobs=-1)]: Done   3 out of   3 | elapsed:    0.8s finished\n"
     ]
    },
    {
     "name": "stdout",
     "output_type": "stream",
     "text": [
      "0.688338719395\n"
     ]
    },
    {
     "name": "stderr",
     "output_type": "stream",
     "text": [
      "[Parallel(n_jobs=-1)]: Done   3 out of   3 | elapsed:    0.8s finished\n"
     ]
    },
    {
     "name": "stdout",
     "output_type": "stream",
     "text": [
      "0.688338719395\n"
     ]
    },
    {
     "name": "stderr",
     "output_type": "stream",
     "text": [
      "[Parallel(n_jobs=-1)]: Done   3 out of   3 | elapsed:    0.8s finished\n"
     ]
    },
    {
     "name": "stdout",
     "output_type": "stream",
     "text": [
      "0.688338719395\n"
     ]
    },
    {
     "name": "stderr",
     "output_type": "stream",
     "text": [
      "[Parallel(n_jobs=-1)]: Done   3 out of   3 | elapsed:    0.8s finished\n"
     ]
    },
    {
     "name": "stdout",
     "output_type": "stream",
     "text": [
      "0.687298022676\n",
      "0.688119625349\n"
     ]
    },
    {
     "name": "stderr",
     "output_type": "stream",
     "text": [
      "[Parallel(n_jobs=-1)]: Done   3 out of   3 | elapsed:    0.9s finished\n"
     ]
    }
   ],
   "source": [
    "des_idf = TfidfVectorizer(ngram_range=(1,2), stop_words = 'english')\n",
    "des_matrix = des_idf.fit_transform(train_df.description)\n",
    "\n",
    "for i in np.arange(10)+1:\n",
    "    svd = TruncatedSVD(n_components=i)\n",
    "    new_des = svd.fit_transform(des_matrix)\n",
    "    LR_idf = LogisticRegression(verbose=3, solver=\"newton-cg\", n_jobs=-1)\n",
    "    LR_idf.fit(new_des[:40000], train_df.interest_level[:40000])\n",
    "    print LR_idf.score(new_des[40000:], train_df.interest_level[40000:])"
   ]
  },
  {
   "cell_type": "code",
   "execution_count": 26,
   "metadata": {
    "collapsed": false
   },
   "outputs": [
    {
     "name": "stdout",
     "output_type": "stream",
     "text": [
      "[ 0.00878815  0.01003012  0.00862346  0.00736268  0.00382872  0.00343386\n",
      "  0.00270009  0.00256158  0.00239293  0.00233475]\n"
     ]
    }
   ],
   "source": [
    "des_idf = TfidfVectorizer(ngram_range=(2,2), stop_words = 'english')\n",
    "des_matrix = des_idf.fit_transform(train_df.description)\n",
    "svd = TruncatedSVD(n_components=10)\n",
    "svd.fit_transform(des_matrix)\n",
    "print svd.explained_variance_ratio_"
   ]
  },
  {
   "cell_type": "markdown",
   "metadata": {},
   "source": [
    "Filter out all the digits in the description"
   ]
  },
  {
   "cell_type": "code",
   "execution_count": 27,
   "metadata": {
    "collapsed": false
   },
   "outputs": [],
   "source": [
    "from nltk.tokenize import RegexpTokenizer\n",
    "\n",
    "tokenizer = RegexpTokenizer(r'[a-zA-Z]+')"
   ]
  },
  {
   "cell_type": "code",
   "execution_count": 92,
   "metadata": {
    "collapsed": false
   },
   "outputs": [
    {
     "name": "stdout",
     "output_type": "stream",
     "text": [
      "0.696828613682\n"
     ]
    }
   ],
   "source": [
    "des_idf = TfidfVectorizer(ngram_range=(2,2), stop_words = 'english', tokenizer=tokenizer.tokenize)\n",
    "des_matrix = des_idf.fit_transform(train_df.description)\n",
    "LR_idf = LogisticRegression()\n",
    "LR_idf.fit(des_matrix[:40000], train_df.interest_level[:40000])\n",
    "print LR_idf.score(des_matrix[40000:], train_df.interest_level[40000:])"
   ]
  },
  {
   "cell_type": "code",
   "execution_count": 29,
   "metadata": {
    "collapsed": false,
    "scrolled": true
   },
   "outputs": [
    {
     "data": {
      "image/png": "[encoded data removed]",
      "text/plain": [
       "<matplotlib.figure.Figure at 0xdf216d8>"
      ]
     },
     "metadata": {},
     "output_type": "display_data"
    }
   ],
   "source": [
    "svd = TruncatedSVD(n_components=100)\n",
    "svd.fit_transform(des_matrix)\n",
    "plt.plot(np.arange(100)+1,svd.explained_variance_ratio_)\n",
    "extraticks=[8]\n",
    "plt.xticks(list(plt.xticks()[0]) + extraticks)\n",
    "plt.title(\"explained ratio vs. components\")\n",
    "plt.show()"
   ]
  },
  {
   "cell_type": "code",
   "execution_count": 83,
   "metadata": {
    "collapsed": true
   },
   "outputs": [],
   "source": [
    "svd = TruncatedSVD(n_components=8)\n",
    "description_df = pd.DataFrame(svd.fit_transform(des_matrix),columns = ['d-1','d-2','d-3','d-4','d-5','d-6','d-7','d-8'])"
   ]
  },
  {
   "cell_type": "code",
   "execution_count": 31,
   "metadata": {
    "collapsed": false,
    "scrolled": true
   },
   "outputs": [
    {
     "data": {
      "text/plain": [
       "array([u'utilities included', u'floor apartment', u'ditmas park',\n",
       "       u'water included', u'gut renovated', u'exclusive viewing',\n",
       "       u'personal tour', u'new hardwood', u'viewing contact',\n",
       "       u'info coming', u'crown heights', u'fee unit', u'great price',\n",
       "       u'home available', u'true bedroom', u'br center', u'queen bed',\n",
       "       u'living room', u'set personal', u'eat kitchen', u'rent stabilized',\n",
       "       u'close shopping', u'br open', u'heat hot', u'br kw',\n",
       "       u'room kitchen', u'light br', u'located heart',\n",
       "       u'excellent location', u'contact eli', u'spacious sunny',\n",
       "       u'included rent', u'tour today', u'train station', u'good credit',\n",
       "       u'free text', u'heat water', u'true br', u'just renovated',\n",
       "       u'th ave', u'apt photos', u'won t', u'text set', u'br exclusive',\n",
       "       u'new floors', u'kitchen bathroom', u'modern studio',\n",
       "       u'amazing deal', u'hardwood floors', u'location near', u'studio br',\n",
       "       u'text anytime', u'spacious modern', u'steps away', u'hot water',\n",
       "       u'br bedrooms', u'actual apt', u'br exposed', u'ceramic tiled',\n",
       "       u'br neighborhood', u'th rd', u'schedule viewing',\n",
       "       u'astonishing budget', u'bay ridge', u'asap br', u'price studio',\n",
       "       u'coming soon', u'live super', u'r train', u'effective rent',\n",
       "       u'park beautiful', u'bedrooms br', u'strong br', u'viewing br',\n",
       "       u'unit building', u'bars restaurants', u'rd street', u'pets br',\n",
       "       u'quick easy', u'queen beds', u'kew gardens', u'union square',\n",
       "       u'prime s', u'slope br', u'contact julio', u'best bars',\n",
       "       u'laundry floor', u'text nathan', u'high vaulted',\n",
       "       u'apartment nice', u'walkup building', u'w th', u'space bedrooms',\n",
       "       u'contact james', u'bathroom kitchen', u'near c', u'private yard',\n",
       "       u'br large', u'building maintained', u'email asap'], \n",
       "      dtype='<U83')"
      ]
     },
     "execution_count": 31,
     "metadata": {},
     "output_type": "execute_result"
    }
   ],
   "source": [
    "np.array(des_idf.get_feature_names())[np.argsort(LR_idf.coef_[0])[::-1]][:100]"
   ]
  },
  {
   "cell_type": "markdown",
   "metadata": {},
   "source": [
    "Neighborhood factor prediction"
   ]
  },
  {
   "cell_type": "code",
   "execution_count": 32,
   "metadata": {
    "collapsed": false
   },
   "outputs": [],
   "source": [
    "train_nb = pd.get_dummies(train_df.neighborhood)"
   ]
  },
  {
   "cell_type": "code",
   "execution_count": 33,
   "metadata": {
    "collapsed": false,
    "scrolled": true
   },
   "outputs": [
    {
     "name": "stdout",
     "output_type": "stream",
     "text": [
      "0.68850303993\n"
     ]
    }
   ],
   "source": [
    "LR_nb = LogisticRegression()\n",
    "LR_nb.fit(train_nb[:40000], train_df.interest_level[:40000])\n",
    "print LR_nb.score(train_nb[40000:], train_df.interest_level[40000:])"
   ]
  },
  {
   "cell_type": "markdown",
   "metadata": {},
   "source": [
    "## City columns"
   ]
  },
  {
   "cell_type": "code",
   "execution_count": 34,
   "metadata": {
    "collapsed": true
   },
   "outputs": [],
   "source": [
    "city = []\n",
    "for i in range(len(listings)):\n",
    "    try:\n",
    "        city.append([listings[i],search.by_coordinate(lat[i], lon[i], radius=1, returns=1)[0]['City']])\n",
    "    except:\n",
    "        continue\n",
    "city_df = pd.DataFrame(city, columns = ['listing_id','city'])"
   ]
  },
  {
   "cell_type": "code",
   "execution_count": 35,
   "metadata": {
    "collapsed": false
   },
   "outputs": [],
   "source": [
    "city_dummy = pd.get_dummies(city_df)\n",
    "train_df_list = pd.DataFrame(train_df['listing_id'])\n",
    "train_df_list = train_df_list.merge(city_dummy, left_on='listing_id', right_on='listing_id', how='left')"
   ]
  },
  {
   "cell_type": "code",
   "execution_count": 36,
   "metadata": {
    "collapsed": false
   },
   "outputs": [],
   "source": [
    "train_df_list=train_df_list.fillna(0)"
   ]
  },
  {
   "cell_type": "code",
   "execution_count": 37,
   "metadata": {
    "collapsed": false
   },
   "outputs": [],
   "source": [
    "del train_df_list['listing_id']"
   ]
  },
  {
   "cell_type": "markdown",
   "metadata": {},
   "source": [
    "## Features"
   ]
  },
  {
   "cell_type": "code",
   "execution_count": 147,
   "metadata": {
    "collapsed": false,
    "scrolled": false
   },
   "outputs": [],
   "source": [
    "import scipy.sparse as sp\n",
    "feature_list = []\n",
    "for i in train_df.features:\n",
    "    feature_list.extend(i)\n",
    "names = list(set(feature_list))"
   ]
  },
  {
   "cell_type": "code",
   "execution_count": 39,
   "metadata": {
    "collapsed": true
   },
   "outputs": [],
   "source": [
    "voc2id = dict(zip(names, range(len(names))))"
   ]
  },
  {
   "cell_type": "markdown",
   "metadata": {},
   "source": [
    "convert features to sparse matrix"
   ]
  },
  {
   "cell_type": "code",
   "execution_count": 40,
   "metadata": {
    "collapsed": true
   },
   "outputs": [],
   "source": [
    "rows, cols, vals = [], [], []\n",
    "for r, d in enumerate(train_df.features):\n",
    "    for e in d:\n",
    "        if voc2id.get(e) is not None:\n",
    "            rows.append(r)\n",
    "            cols.append(voc2id[e])\n",
    "            vals.append(1)\n",
    "features = sp.csr_matrix((vals, (rows, cols)))"
   ]
  },
  {
   "cell_type": "code",
   "execution_count": 41,
   "metadata": {
    "collapsed": false
   },
   "outputs": [
    {
     "name": "stdout",
     "output_type": "stream",
     "text": [
      "0.689872377718\n"
     ]
    }
   ],
   "source": [
    "LR_features = LogisticRegression()\n",
    "LR_features.fit(features[:40000], train_df.interest_level[:40000])\n",
    "print LR_features.score(features[40000:], train_df.interest_level[40000:])"
   ]
  },
  {
   "cell_type": "code",
   "execution_count": 161,
   "metadata": {
    "collapsed": false,
    "scrolled": false
   },
   "outputs": [
    {
     "name": "stdout",
     "output_type": "stream",
     "text": [
      "Actual Apt. Photos\n",
      "Concierge Service\n",
      "One Month Free\n",
      "Sunlight\n",
      "Storage\n",
      "Walk-in-closet\n",
      "Pets: Cats/Small Dogs\n",
      "Near Transportation\n",
      "Short Term Allowed\n",
      "** SPACIOUS STUDIO SUPREME * AMAZING CORNER LAYOUT * TONS OF SUNLIGHT * PETS OK **\n",
      "** OVERSIZED & UNDERPRICED * CLASSY CORNER STUDIO * ALL MODERN & NEW * PERFECT SUNLIGHT * PETS OK **\n",
      "** OVERSIZED 3BR HOME * SPARKLING CLEAN * TONS OF NATURAL LIGHT * 2 BLKS TO THE WATERFRONT & BEDFORD L STOP **\n",
      "Stunning Renovations\n",
      "Hardwood\n",
      "Sauna\n",
      "Kitchen Pantry\n",
      "Walk-In Closet\n",
      "Live-in superintendent\n",
      "Renovated Kitchen\n",
      "Exposed Brick\n",
      "Stainless Steel Kitchen\n",
      "Roof\n",
      "Playroom\n",
      "Owner Occupied - 3 family townhouse - no realtor fees - this beautiful apt is offered below market rate\n",
      "Stunning New Renovation\n",
      "4th floor Walk Up\n",
      "Private backyard\n",
      "stainless steel\n",
      "Available  05/15/16    Dishwasher\n",
      "Newly renovated\n",
      "Laundry In Building\n",
      "Near PRATT\n",
      "Near Subway\n",
      "Air Conditioning\n",
      "Furnished\n",
      "Bike Room\n",
      "True 2 Bedroom - On Lexington Ave\n",
      "** OVERSIZED & UNDERPRICED! * SPRAWLING SUNFILLED STUDIO * ROOMY CLOSETS * TONS OF SUNLIGHT * PETS OK **\n",
      "Rent Stabilize - Elevator Building\n",
      "** SPRAWLING SUNDRENCHED STUDIO * MR CLEAN APPROVED * ROOMY CLOSETS * PETS OK * W50s ~ STEPS TO THE PARK! **\n",
      "Full Kitchen\n",
      "Garage Fitness Facility Laundry Room Valet Lounge Billiards Room Rooftop Deck WiFi Access\n",
      "** WICKED W50s FIND! * SPRAWLING STUDIO HOME * GOURMET KITCHEN * UNIQUE RENOVATIONS * STEPS TO CENTRAL PARK! **\n",
      "Townhouse\n",
      "** OVERSIZED & UNDERPRICED!! * SPRAWLING SUNFILLED STUDIO * GOURMET KITCHEN * GUT RENOVATED * W50s ~ NEAR CENTRAL PARK! **\n",
      "Eat in kitchen\n",
      "** RENT STABILIZED * OVERSIZED 1BR HOME * MR CLEAN APPROVED * SEPARATE COOK'S KITCHEN * HEART OF MIDTOWN **\n",
      "Great Light and Location. Fresh paint.\n",
      "Stainless Appliances\n",
      "Parquet Floors\n",
      "Spacious and Bright !!!\n",
      "Private Deck\n",
      "** W60s WONDER ~ NEAR THE PARK! * OVERSZED STUDIO STEAL * COURTYARD * FREE GYM * ELEV/LNDRY BLDG * CATS OK **\n",
      "Rent stabilize\n",
      "1.5 Bath\n",
      "Utilities included\n",
      "Original Details\n",
      "Washer/Dryer in Unit\n",
      "private backyard\n",
      "Living/dining room\n",
      "Large open kitchen\n",
      "Large private terrace\n",
      "A/C\n",
      "On site super\n",
      "small pets allowed\n",
      "French Door\n",
      "Shared yard\n",
      "Walk-In Closet Views:\n",
      "Live-in super\n",
      "Super On-Site\n",
      "** EAST VILLAGE BABY! * OVERSIZED 2BR HOME * 1.5 BATHS * EAT-IN KITCHEN * FIREPLACE * EXPOSED BRICK * SCENIC ROOF DECK * LNDRY BLDG **\n",
      "Solarium\n",
      "Reduced Fee\n",
      "Sleeping Alcove\n",
      "Close to Transit\n",
      "Pets Allowed Case by Case\n",
      "Park view\n",
      "WALK IN CLOSET\n",
      "MIDRISE\n",
      "2 bathrooms\n",
      "Huge Private Backyard\n",
      "Exclusive\n",
      "Manhattan Views\n",
      "Sun deck\n",
      "Private lounge w/ wet bar & billiards table\n",
      "24-hour concierge\n",
      "Superintendent lives in\n",
      "Granite Counters\n",
      "Gut Renovated\n",
      "ACTUAL APT. PHOTOS\n",
      "Nearby M & R trains\n",
      "HUGE & GUT RENOVATED\n",
      "new construction\n",
      "backyard\n",
      "On-site Parking Lot\n",
      "no fee\n",
      "No Fee!!!\n",
      "$500 Security Deposit\n",
      "Easy Qualification\n",
      "$250 application fee with background and credit check. Board interview and approval.\n"
     ]
    }
   ],
   "source": [
    "id2voc = {v: k for k, v in voc2id.iteritems()}\n",
    "for i in np.argsort(LR_features.coef_[0])[::-1][:100]:\n",
    "    print id2voc[i]\n",
    "    "
   ]
  },
  {
   "cell_type": "code",
   "execution_count": 42,
   "metadata": {
    "collapsed": false
   },
   "outputs": [
    {
     "name": "stdout",
     "output_type": "stream",
     "text": [
      "0.688338719395\n",
      "0.688338719395\n",
      "0.688338719395\n",
      "0.688010078326\n",
      "0.688064851838\n",
      "0.688174398861\n",
      "0.688776907488\n",
      "0.689324642603\n",
      "0.689324642603\n",
      "0.688612586953\n"
     ]
    }
   ],
   "source": [
    "for i in np.arange(10)+1:\n",
    "    svd = TruncatedSVD(n_components=i)\n",
    "    new_des = svd.fit_transform(features)\n",
    "    LR_idf = LogisticRegression()\n",
    "    LR_idf.fit(new_des[:40000], train_df.interest_level[:40000])\n",
    "    print LR_idf.score(new_des[40000:], train_df.interest_level[40000:])"
   ]
  },
  {
   "cell_type": "code",
   "execution_count": 164,
   "metadata": {
    "collapsed": false,
    "scrolled": true
   },
   "outputs": [
    {
     "data": {
      "image/png": "[encoded data removed]",
      "text/plain": [
       "<matplotlib.figure.Figure at 0x28c67b70>"
      ]
     },
     "metadata": {},
     "output_type": "display_data"
    }
   ],
   "source": [
    "svd = TruncatedSVD(n_components=100)\n",
    "svd.fit_transform(features)\n",
    "plt.plot(np.arange(100)+1,svd.explained_variance_ratio_)\n",
    "extraticks=[8]\n",
    "plt.xticks(list(plt.xticks()[0]) + extraticks)\n",
    "plt.title(\"explained ratio vs. components\")\n",
    "plt.show()"
   ]
  },
  {
   "cell_type": "code",
   "execution_count": 165,
   "metadata": {
    "collapsed": false
   },
   "outputs": [
    {
     "data": {
      "text/plain": [
       "0.71463243798957732"
      ]
     },
     "execution_count": 165,
     "metadata": {},
     "output_type": "execute_result"
    }
   ],
   "source": [
    "sum(svd.explained_variance_ratio_[:10])"
   ]
  },
  {
   "cell_type": "code",
   "execution_count": 81,
   "metadata": {
    "collapsed": false
   },
   "outputs": [],
   "source": [
    "svd = TruncatedSVD(n_components=8)\n",
    "features_svd = pd.DataFrame(svd.fit_transform(features),columns = ['f-1','f-2','f-3','f-4','f-5','f-6','f-7','f-8'])"
   ]
  },
  {
   "cell_type": "markdown",
   "metadata": {},
   "source": [
    "Combine all columns"
   ]
  },
  {
   "cell_type": "code",
   "execution_count": 45,
   "metadata": {
    "collapsed": false
   },
   "outputs": [
    {
     "data": {
      "text/plain": [
       "Index([      u'bathrooms',        u'bedrooms',     u'building_id',\n",
       "               u'created',     u'description', u'display_address',\n",
       "              u'features',  u'interest_level',        u'latitude',\n",
       "            u'listing_id',       u'longitude',      u'manager_id',\n",
       "                u'photos',           u'price',  u'street_address',\n",
       "               u'zipcode',    u'neighborhood',        u'interest'],\n",
       "      dtype='object')"
      ]
     },
     "execution_count": 45,
     "metadata": {},
     "output_type": "execute_result"
    }
   ],
   "source": [
    "train_df.columns"
   ]
  },
  {
   "cell_type": "code",
   "execution_count": 46,
   "metadata": {
    "collapsed": true
   },
   "outputs": [],
   "source": [
    "neighborhood_df = pd.get_dummies(train_df.neighborhood)"
   ]
  },
  {
   "cell_type": "code",
   "execution_count": 47,
   "metadata": {
    "collapsed": false
   },
   "outputs": [],
   "source": [
    "useful_df = train_df[['bathrooms','bedrooms','price']]\n",
    "frames = [useful_df, features_svd, description_df,train_df_list,neighborhood_df]\n",
    "result = pd.concat(frames, axis=1)\n",
    "result = result.fillna(0)"
   ]
  },
  {
   "cell_type": "markdown",
   "metadata": {},
   "source": [
    "Fitting model"
   ]
  },
  {
   "cell_type": "code",
   "execution_count": 48,
   "metadata": {
    "collapsed": false,
    "scrolled": false
   },
   "outputs": [
    {
     "data": {
      "text/plain": [
       "0.71046721805334945"
      ]
     },
     "execution_count": 48,
     "metadata": {},
     "output_type": "execute_result"
    }
   ],
   "source": [
    "xgb = GradientBoostingClassifier()\n",
    "xgb.fit(result[:40000], train_df.interest_level[:40000])\n",
    "xgb.score(result[40000:],train_df.interest_level[40000:])"
   ]
  },
  {
   "cell_type": "code",
   "execution_count": 49,
   "metadata": {
    "collapsed": false
   },
   "outputs": [
    {
     "data": {
      "text/plain": [
       "(58257, 213)"
      ]
     },
     "execution_count": 49,
     "metadata": {},
     "output_type": "execute_result"
    }
   ],
   "source": [
    "result.shape"
   ]
  },
  {
   "cell_type": "markdown",
   "metadata": {},
   "source": [
    "## Another way of neigborhood code\n",
    "\n",
    "I get the following neighborhood names from the Renthop nyc website. The latitude and longitude of the neighborhood is gotten with the geopy.geocodes. The correponsing neighborhood is returned by calculated the distance between the listing building and the center of the neighborhood.\n",
    "\n",
    "I notice there are some wrong records in the records, which give me a location in Chicago or even farther. I remove all listing with distance greater than 10."
   ]
  },
  {
   "cell_type": "code",
   "execution_count": 50,
   "metadata": {
    "collapsed": false
   },
   "outputs": [],
   "source": [
    "from geopy.geocoders import Nominatim"
   ]
  },
  {
   "cell_type": "code",
   "execution_count": 51,
   "metadata": {
    "collapsed": true
   },
   "outputs": [],
   "source": [
    "m_neighborhoods = ['Battery Park City','Bowery','Chinatown','Civic Center','East Village','Financial District',\n",
    "                   'Greenwich Village','Little Italy','Lower East Side','NoHo','NoLita','SoHo','Tribeca','Two Bridges',\n",
    "                   'West Village','Chelsea','Flatiron District','Garment District','Gramercy Park',\"Hell's Kitchen\",'Kips Bay',\n",
    "                   'Koreatown','Midtown East','Murray Hill','NoMad','Stuyvesant Town - Peter Cooper Village','Theater District',\n",
    "                   'Central Harlem','Central Park','East Harlem','Inwood','Upper East Side','Upper West Side',\n",
    "                   'Washington Heights','West Harlem','Randalls-Wards Island','Roosevelt Island']\n",
    "        \n",
    "b_neighborhoods = ['Bedford-Stuyvesant','Bushwick','Greenpoint','Williamsburg','Boerum Hill','Carroll Gardens','Cobble Hill',\n",
    "                   'Gowanus','Greenwood Heights','Park Slope','Prospect Park','Red Hook','Sunset Park','Windsor Terrace',\n",
    "                   'Crown Heights','East Flatbush','Flatbush','Kensington','Midwood','Ocean Hill','Brooklyn Heights',\n",
    "                   'Brooklyn Navy Yard','Clinton Hill','DUMBO','Downtown Brooklyn','Fort Greene','Prospect Heights',\n",
    "                   'Vinegar Hill','Bath Beach','Bay Ridge','Bensonhurst','Borough Park','Dyker Heights','Mapleton',\n",
    "                   'Brighton Beach','Coney Island','Gravesend','Sheepshead Bay','Brownsville','Canarsie','Cypress Hills',\n",
    "                   'East New York','Bergen Beach','Flatlands','Floyd Bennett Airfield','Marine Park','Mill Basin']\n",
    "\n",
    "q_neighborhoods = ['Astoria','Corona','East Elmhurst','Elmhurst','Forest Hills','Glendale','Jackson Heights','Long Island City',\n",
    "                   'Maspeth','Middle Village','Rego Park','Ridgewood','Sunnyside','Woodside','Auburndale','Bayside',\n",
    "                   'College Point','Flushing','Flushing Meadows-Corona Park','Fresh Meadows','Glen Oaks','Kew Gardens',\n",
    "                   'Kew Gardens Hills','Whitestone','Briarwood','Hollis','Holliswood','Jamaica','Jamaica Estates',\n",
    "                   'Jamaica Hills','South Jamaica','St. Albans','Forest Park','Howard Beach','Ozone Park','Richmond Hill',\n",
    "                   'South Ozone Park','Woodhaven','Far Rockaway','Rockaway Beach']\n",
    "\n",
    "s_neighborhoods =  ['East Shore','Mid-Island','North Shore','South Shore']\n",
    "\n",
    "bx_neighborhoods = ['Bedford Park','Belmont','Bronx Park','Concourse','Concourse Village','East Tremont','Fordham Heights',\n",
    "                    'Fordham Manor','Highbridge','Hunts Point','Kingsbridge','Longwood','Marble Hill','Morris Heights',\n",
    "                    'Morrisania','Mott Haven','Mount Eden','Mount Hope','Norwood','Riverdale','University Heights',\n",
    "                    'Van Cortlandt Park','West Farms','Allerton','Clason Point','Morris Park','Parkchester','Pelham Bay',\n",
    "                    'Pelham Parkway','Throgs Neck','Unionport','Van Nest','Wakefield','Westchester Village','Williamsbridge',\n",
    "                    'Woodlawn Heights']\n",
    "\n",
    "nj_neighborhoods = ['Bergen - Lafayette',\n",
    "                    'Greenville','Historic Downtown','McGinley Square','The Heights','The Waterfront','West Side']"
   ]
  },
  {
   "cell_type": "code",
   "execution_count": 52,
   "metadata": {
    "collapsed": false
   },
   "outputs": [],
   "source": [
    "neighborhood_list = ['m_neighborhoods','b_neighborhoods','q_neighborhoods','s_neighborhoods','bx_neighborhoods','nj_neighborhoods']\n",
    "n_dict = {'m_neighborhoods':'manhattan','b_neighborhoods':'brooklyn','q_neighborhoods':'queens',\n",
    "          's_neighborhoods':'staten island','bx_neighborhoods':'bronx','nj_neighborhoods':'new jersey'}"
   ]
  },
  {
   "cell_type": "markdown",
   "metadata": {},
   "source": [
    "Some neighborhoods cannot be automatically located through geopy. I searched it out in Google and fill it out mannualy."
   ]
  },
  {
   "cell_type": "code",
   "execution_count": 54,
   "metadata": {
    "collapsed": false
   },
   "outputs": [
    {
     "name": "stdout",
     "output_type": "stream",
     "text": [
      "m_neighborhoods:NoLita\n",
      "m_neighborhoods:Two Bridges\n",
      "m_neighborhoods:Flatiron District\n",
      "m_neighborhoods:Garment District\n",
      "m_neighborhoods:Stuyvesant Town - Peter Cooper Village\n",
      "m_neighborhoods:Randalls-Wards Island\n",
      "b_neighborhoods:Floyd Bennett Airfield\n",
      "q_neighborhoods:Jamaica Hills\n",
      "s_neighborhoods:East Shore\n",
      "s_neighborhoods:Mid-Island\n",
      "s_neighborhoods:North Shore\n",
      "s_neighborhoods:South Shore\n",
      "bx_neighborhoods:Westchester Village\n",
      "nj_neighborhoods:Bergen - Lafayette\n",
      "nj_neighborhoods:Historic Downtown\n",
      "nj_neighborhoods:McGinley Square\n",
      "nj_neighborhoods:West Side\n"
     ]
    }
   ],
   "source": [
    "neighborhood_dict= {}\n",
    "for n_list in neighborhood_list:\n",
    "    for n in eval(n_list):\n",
    "        geolocator = Nominatim()\n",
    "        location = geolocator.geocode(n+\" \"+n_dict[n_list])\n",
    "        try:\n",
    "            neighborhood_dict[n]=(location.latitude, location.longitude)\n",
    "        except:\n",
    "            print n_list +\":\"+ n\n",
    "            continue"
   ]
  },
  {
   "cell_type": "code",
   "execution_count": 55,
   "metadata": {
    "collapsed": false
   },
   "outputs": [],
   "source": [
    "neighborhood_dict['Nolita'] = (40.7230413,-73.9948607)\n",
    "neighborhood_dict['Two Bridges'] = (40.71074689999999,-73.99696)\n",
    "neighborhood_dict['Flatiron District'] = (40.74008300000001,-73.99034890000001)\n",
    "neighborhood_dict['Garment District'] = (40.7547072,-73.99163420000002)\n",
    "neighborhood_dict['Stuyvesant Town - Peter Cooper Village'] = (40.7316903,-73.97784939999997)\n",
    "neighborhood_dict['Randalls-Wards Island'] = (40.7932271,-73.92128579999996)\n",
    "neighborhood_dict['Floyd Bennett Airfield'] = (40.5910174,-73.8906091)\n",
    "neighborhood_dict['Jamaica Hills'] = (40.71280290000001,-73.79926339999997)\n",
    "neighborhood_dict['East Shore'] = (40.606221,-74.06419489999996)\n",
    "neighborhood_dict['Mid-Island'] = (40.5993847,-74.17931770000001)\n",
    "neighborhood_dict['North Shore'] =(40.62604414772478,-74.12667847936973)\n",
    "neighborhood_dict['South Shore'] = (40.531910867376595,-74.21559907263145)\n",
    "neighborhood_dict['Westchester Village'] = (40.8407103,-73.8473591)\n",
    "neighborhood_dict['Bergen - Lafayette'] =(40.71114639999999,-74.07407289999998)\n",
    "neighborhood_dict['Historic Downtown'] =(40.71114639999999,-74.07407289999998)\n",
    "neighborhood_dict['McGinley Square'] = (40.7241223,-74.06966729999999)\n",
    "neighborhood_dict['West Side'] =(40.7247507,-74.08288390000001)"
   ]
  },
  {
   "cell_type": "code",
   "execution_count": 56,
   "metadata": {
    "collapsed": true
   },
   "outputs": [],
   "source": [
    "neighborhood_df = pd.Series(neighborhood_dict)"
   ]
  },
  {
   "cell_type": "markdown",
   "metadata": {},
   "source": [
    "Calculate the distance betweent the building and the center of the neighborhood"
   ]
  },
  {
   "cell_type": "code",
   "execution_count": 57,
   "metadata": {
    "collapsed": false
   },
   "outputs": [],
   "source": [
    "dist = DistanceMetric.get_metric('euclidean')\n",
    "X = list(neighborhood_df)\n",
    "\n",
    "min_distance = np.zeros(train_df.shape[0])\n",
    "min_index = []\n",
    "count = 0\n",
    "for listing in np.array(train_df[['latitude','longitude']]) :   \n",
    "    min_distance[count] = np.min(dist.pairwise(X,[listing]), axis = 0)\n",
    "    if np.min(dist.pairwise(X,[listing]), axis = 0) < 10:\n",
    "        min_index.append(neighborhood_df.index[np.argmin(dist.pairwise(X,[listing]))])\n",
    "    else:\n",
    "        min_index.append(np.nan)\n",
    "    count += 1\n",
    "min_index = np.array(min_index)"
   ]
  },
  {
   "cell_type": "code",
   "execution_count": 58,
   "metadata": {
    "collapsed": false
   },
   "outputs": [],
   "source": [
    "n_df = pd.get_dummies(min_index)\n",
    "n_df = n_df.fillna(0)"
   ]
  },
  {
   "cell_type": "code",
   "execution_count": 166,
   "metadata": {
    "collapsed": false
   },
   "outputs": [
    {
     "data": {
      "text/plain": [
       "(58257, 158)"
      ]
     },
     "execution_count": 166,
     "metadata": {},
     "output_type": "execute_result"
    }
   ],
   "source": [
    "n_df.shape"
   ]
  },
  {
   "cell_type": "markdown",
   "metadata": {},
   "source": [
    "A brief plot of the distance (only show 16 listing with maxium distance)"
   ]
  },
  {
   "cell_type": "code",
   "execution_count": 59,
   "metadata": {
    "collapsed": false,
    "scrolled": false
   },
   "outputs": [
    {
     "data": {
      "image/png": "[encoded data removed]",
      "text/plain": [
       "<matplotlib.figure.Figure at 0x295ed748>"
      ]
     },
     "metadata": {},
     "output_type": "display_data"
    }
   ],
   "source": [
    "plt.plot(range(train_df.shape[0])[58240:],min_distance[58240:])\n",
    "plt.show()"
   ]
  },
  {
   "cell_type": "markdown",
   "metadata": {},
   "source": [
    "## Trying differnt kinds of input and see the accuaracy\n",
    "I try to use gridsearch for xgb. However, it is extremely slow , so I just try different combinations of the parameters"
   ]
  },
  {
   "cell_type": "code",
   "execution_count": 278,
   "metadata": {
    "collapsed": false
   },
   "outputs": [
    {
     "data": {
      "text/plain": [
       "0.7120556498877143"
      ]
     },
     "execution_count": 278,
     "metadata": {},
     "output_type": "execute_result"
    }
   ],
   "source": [
    "frames = [useful_df, features_svd, description_df]\n",
    "result = pd.concat(frames, axis=1)\n",
    "result = result.fillna(0)\n",
    "xgb = GradientBoostingClassifier()\n",
    "xgb.fit(result[:40000], train_df.interest_level[:40000])\n",
    "xgb.score(result[40000:],train_df.interest_level[40000:])"
   ]
  },
  {
   "cell_type": "code",
   "execution_count": 279,
   "metadata": {
    "collapsed": false
   },
   "outputs": [
    {
     "data": {
      "text/plain": [
       "0.71030289751875997"
      ]
     },
     "execution_count": 279,
     "metadata": {},
     "output_type": "execute_result"
    }
   ],
   "source": [
    "frames = [useful_df, features_svd,n_df]\n",
    "result = pd.concat(frames, axis=1)\n",
    "result = result.fillna(0)\n",
    "xgb = GradientBoostingClassifier()\n",
    "xgb.fit(result[:40000], train_df.interest_level[:40000])\n",
    "xgb.score(result[40000:],train_df.interest_level[40000:])"
   ]
  },
  {
   "cell_type": "code",
   "execution_count": 277,
   "metadata": {
    "collapsed": false
   },
   "outputs": [
    {
     "data": {
      "text/plain": [
       "0.71232951744536344"
      ]
     },
     "execution_count": 277,
     "metadata": {},
     "output_type": "execute_result"
    }
   ],
   "source": [
    "frames = [useful_df, features_svd, n_df,description_df]\n",
    "result = pd.concat(frames, axis=1)\n",
    "result = result.fillna(0)\n",
    "xgb = GradientBoostingClassifier()\n",
    "xgb.fit(result[:40000], train_df.interest_level[:40000])\n",
    "xgb.score(result[40000:],train_df.interest_level[40000:])"
   ]
  },
  {
   "cell_type": "code",
   "execution_count": 283,
   "metadata": {
    "collapsed": false
   },
   "outputs": [
    {
     "data": {
      "text/plain": [
       "0.72103850577860551"
      ]
     },
     "execution_count": 283,
     "metadata": {},
     "output_type": "execute_result"
    }
   ],
   "source": [
    "frames = [useful_df, features_svd, n_df,description_df]\n",
    "result = pd.concat(frames, axis=1)\n",
    "result = result.fillna(0)\n",
    "xgb = GradientBoostingClassifier(max_depth = 10)\n",
    "xgb.fit(result[:40000], train_df.interest_level[:40000])\n",
    "xgb.score(result[40000:],train_df.interest_level[40000:])"
   ]
  },
  {
   "cell_type": "code",
   "execution_count": 284,
   "metadata": {
    "collapsed": false
   },
   "outputs": [
    {
     "data": {
      "text/plain": [
       "0.7166566248562195"
      ]
     },
     "execution_count": 284,
     "metadata": {},
     "output_type": "execute_result"
    }
   ],
   "source": [
    "frames = [useful_df, features_svd, n_df,description_df]\n",
    "result = pd.concat(frames, axis=1)\n",
    "result = result.fillna(0)\n",
    "xgb = GradientBoostingClassifier(n_estimators = 300)\n",
    "xgb.fit(result[:40000], train_df.interest_level[:40000])\n",
    "xgb.score(result[40000:],train_df.interest_level[40000:])"
   ]
  },
  {
   "cell_type": "code",
   "execution_count": 84,
   "metadata": {
    "collapsed": false
   },
   "outputs": [],
   "source": [
    "frames = [useful_df, features_svd, n_df,description_df]\n",
    "result = pd.concat(frames, axis=1)\n",
    "result = result.fillna(0)\n",
    "X_train, X_val, y_train, y_val = train_test_split(result, train_df.interest_level, test_size=0.33)"
   ]
  },
  {
   "cell_type": "code",
   "execution_count": 85,
   "metadata": {
    "collapsed": false
   },
   "outputs": [
    {
     "name": "stdout",
     "output_type": "stream",
     "text": [
      "kNN 3.06167773884\n"
     ]
    },
    {
     "name": "stderr",
     "output_type": "stream",
     "text": [
      "C:\\Users\\jiang\\Anaconda2\\lib\\site-packages\\scipy\\optimize\\linesearch.py:414: LineSearchWarning: The line search algorithm did not converge\n",
      "  warn('The line search algorithm did not converge', LineSearchWarning)\n",
      "C:\\Users\\jiang\\Anaconda2\\lib\\site-packages\\scipy\\optimize\\linesearch.py:285: LineSearchWarning: The line search algorithm did not converge\n",
      "  warn('The line search algorithm did not converge', LineSearchWarning)\n"
     ]
    },
    {
     "name": "stdout",
     "output_type": "stream",
     "text": [
      "LR 0.674051436508\n"
     ]
    },
    {
     "name": "stderr",
     "output_type": "stream",
     "text": [
      "C:\\Users\\jiang\\Anaconda2\\lib\\site-packages\\sklearn\\linear_model\\base.py:352: RuntimeWarning: overflow encountered in exp\n",
      "  np.exp(prob, prob)\n"
     ]
    },
    {
     "name": "stdout",
     "output_type": "stream",
     "text": [
      "Random Forest 0.632866539293\n",
      "AdaBoost 1.08454238181\n",
      "NB 1.56153794076\n",
      "XGB 0.633757186958\n"
     ]
    }
   ],
   "source": [
    "names = [\"kNN\", \"LR\", \"Random Forest\", \"AdaBoost\", \"NB\",\"XGB\"]\n",
    "classifiers = [\n",
    "    KNeighborsClassifier(5),\n",
    "    LogisticRegression(solver=\"newton-cg\"),\n",
    "    RandomForestClassifier(n_estimators=100),\n",
    "    AdaBoostClassifier(n_estimators=100),\n",
    "    GaussianNB(),\n",
    "    GradientBoostingClassifier()\n",
    "]\n",
    "clf_dict = dict(zip(names, classifiers))\n",
    "for name, clf in zip(names, classifiers):\n",
    "    clf.fit(X_train, y_train)\n",
    "    print name, log_loss(y_val, clf.predict_proba(X_val))"
   ]
  },
  {
   "cell_type": "code",
   "execution_count": 86,
   "metadata": {
    "collapsed": false
   },
   "outputs": [],
   "source": [
    "num_feats = list(result.columns)"
   ]
  },
  {
   "cell_type": "code",
   "execution_count": 87,
   "metadata": {
    "collapsed": true
   },
   "outputs": [],
   "source": [
    "import operator"
   ]
  },
  {
   "cell_type": "code",
   "execution_count": 88,
   "metadata": {
    "collapsed": false
   },
   "outputs": [
    {
     "data": {
      "text/plain": [
       "[(u'price', 0.11024028364433074),\n",
       " ('d-3', 0.05469043285033319),\n",
       " ('d-5', 0.053786752601097228),\n",
       " ('d-2', 0.053491859977385647),\n",
       " ('d-1', 0.052124121617321634),\n",
       " ('d-4', 0.050368219897281373),\n",
       " ('d-6', 0.050283820639614875),\n",
       " ('d-7', 0.050085405931078866),\n",
       " ('d-8', 0.04932346336824487),\n",
       " ('f-5', 0.042359564102736107),\n",
       " ('f-2', 0.041088598469610736),\n",
       " ('f-7', 0.039477563720485748),\n",
       " ('f-4', 0.039322800925987965),\n",
       " ('f-3', 0.038941448160511767),\n",
       " ('f-8', 0.03771690363294742),\n",
       " ('f-1', 0.037299438037555477),\n",
       " ('f-6', 0.036680567177647894),\n",
       " (u'bedrooms', 0.028706854851100548),\n",
       " (u'bathrooms', 0.010604507069238657),\n",
       " ('Upper East Side', 0.0061395502406760873),\n",
       " ('East Village', 0.0042685270862557389),\n",
       " ('Upper West Side', 0.0037039137269311217),\n",
       " ('Greenwich Village', 0.0035417276532250059),\n",
       " ('Murray Hill', 0.0035006432227910333),\n",
       " ('Civic Center', 0.0035003053054920214),\n",
       " ('Flatbush', 0.0033655339314209065),\n",
       " ('Chelsea', 0.0031582125290455765),\n",
       " ('Midtown East', 0.0029557623519429559),\n",
       " ('Brooklyn Heights', 0.0029015262436621991),\n",
       " (\"Hell's Kitchen\", 0.0028316393110356364),\n",
       " ('West Harlem', 0.0027669410045225327),\n",
       " ('Theater District', 0.0025907000905314639),\n",
       " ('Roosevelt Island', 0.0024876190478253547),\n",
       " ('Kips Bay', 0.0024195192561604927),\n",
       " ('Central Harlem', 0.0023688250771627616),\n",
       " ('East Harlem', 0.0022922257718032911),\n",
       " ('Stuyvesant Town - Peter Cooper Village', 0.0022238826088425922),\n",
       " ('Ocean Hill', 0.0021850598292291424),\n",
       " ('Gramercy Park', 0.0021072796684019788),\n",
       " ('Financial District', 0.0020994590281809816),\n",
       " ('Vinegar Hill', 0.001947949600366288),\n",
       " ('Williamsburg', 0.0019375768307664024),\n",
       " ('Park Slope', 0.001881244502791425),\n",
       " ('Astoria', 0.0018684681228518898),\n",
       " ('Flatiron District', 0.0018052233061604248),\n",
       " ('Lower East Side', 0.0017626850502367169),\n",
       " ('Clinton Hill', 0.0016913178807639693),\n",
       " ('Fort Greene', 0.0016864982725414499),\n",
       " ('Washington Heights', 0.0016444314820769968),\n",
       " ('Highbridge', 0.0016056783001380823),\n",
       " ('DUMBO', 0.001604583146703632),\n",
       " ('Koreatown', 0.0015989639870491585),\n",
       " ('Boerum Hill', 0.0015930150061238843),\n",
       " ('Bedford-Stuyvesant', 0.001565310537355386),\n",
       " ('Tribeca', 0.0015444938749482804),\n",
       " ('Battery Park City', 0.0015420946522546747),\n",
       " ('Prospect Heights', 0.0014699927499327095),\n",
       " ('Bay Ridge', 0.0014680808321567546),\n",
       " ('Garment District', 0.001395922596319652),\n",
       " ('Crown Heights', 0.0013698131726191741),\n",
       " ('Kensington', 0.0013631428122355014),\n",
       " ('Bowery', 0.0011443289603706407),\n",
       " ('Midwood', 0.0010636036250010108),\n",
       " ('Bushwick', 0.0010564929038198621),\n",
       " ('Cobble Hill', 0.0010220084731896993),\n",
       " ('Long Island City', 0.0009187856175477693),\n",
       " ('Two Bridges', 0.00086279875263116476),\n",
       " ('Gowanus', 0.00084191953052489572),\n",
       " ('NoHo', 0.00075270146361318358),\n",
       " ('Inwood', 0.00068939844346519786),\n",
       " ('Windsor Terrace', 0.00066239989442599327),\n",
       " ('Greenpoint', 0.0006489588074538677),\n",
       " ('East Flatbush', 0.00064146178849061033),\n",
       " ('Brooklyn Navy Yard', 0.00063689593805713637),\n",
       " ('Rego Park', 0.0006335952065969941),\n",
       " ('Sunset Park', 0.00062292793791463973),\n",
       " ('Dyker Heights', 0.00058905564022906779),\n",
       " ('Carroll Gardens', 0.00057086300224169783),\n",
       " ('Little Italy', 0.00056486031833072759),\n",
       " ('Nolita', 0.00055794201551699456),\n",
       " ('NoMad', 0.00052783429305129843),\n",
       " ('Brighton Beach', 0.00052179999547911427),\n",
       " ('Marble Hill', 0.00047801553602957618),\n",
       " ('Woodside', 0.00044283190188053144),\n",
       " ('Forest Hills', 0.00042422052970590078),\n",
       " ('Flushing', 0.00042307447779185882),\n",
       " ('Ridgewood', 0.00041497598154316445),\n",
       " ('Jackson Heights', 0.00034841825338973392),\n",
       " ('Flatlands', 0.00034578481867206907),\n",
       " ('Sunnyside', 0.00033670318510687947),\n",
       " ('Kingsbridge', 0.00033660377085378628),\n",
       " ('Prospect Park', 0.00032969832640645776),\n",
       " ('Kew Gardens', 0.00028563403837966706),\n",
       " ('Bedford Park', 0.00027743418241300523),\n",
       " ('Fordham Manor', 0.00027092218286351404),\n",
       " ('Richmond Hill', 0.00026972337496146854),\n",
       " ('SoHo', 0.00021505811320528801),\n",
       " ('Briarwood', 0.00020529452506150129),\n",
       " ('University Heights', 0.00020085902509744019),\n",
       " ('East New York', 0.00019833496255266877),\n",
       " ('Brownsville', 0.00018676316073708507),\n",
       " ('Randalls-Wards Island', 0.00017789499254392945),\n",
       " ('Chinatown', 0.00017343394997629711),\n",
       " ('Far Rockaway', 0.00016251171995914561),\n",
       " ('Pelham Parkway', 0.0001527646786407594),\n",
       " ('Bensonhurst', 0.00014800843755962312),\n",
       " ('Elmhurst', 0.00013625883002858999),\n",
       " ('Concourse Village', 0.00012724191600824427),\n",
       " ('Kew Gardens Hills', 0.00012584279452555931),\n",
       " ('Gravesend', 0.00012348165037962845),\n",
       " ('Mount Eden', 0.0001198399593022092),\n",
       " ('Fordham Heights', 0.00011866768326154801),\n",
       " ('Bath Beach', 0.00011388552005606376),\n",
       " ('Jamaica Hills', 0.00010304326289850564),\n",
       " ('Norwood', 0.00010145818067731166),\n",
       " ('Corona', 0.0001005552125078908),\n",
       " ('Flushing Meadows-Corona Park', 9.8066473175966948e-05),\n",
       " ('Mapleton', 9.6056268364692275e-05),\n",
       " ('Glendale', 9.4703522625651514e-05),\n",
       " ('Sheepshead Bay', 8.4512798068466923e-05),\n",
       " ('Forest Park', 8.3744816222631601e-05),\n",
       " ('Mott Haven', 8.1688514567209488e-05),\n",
       " ('Greenville', 7.6903097159511263e-05),\n",
       " ('Throgs Neck', 7.4983375008072864e-05),\n",
       " ('Unionport', 7.2942655865308848e-05),\n",
       " ('Rockaway Beach', 7.2195251123843422e-05),\n",
       " ('Wakefield', 7.1004196771297078e-05),\n",
       " ('Coney Island', 7.083331435177984e-05),\n",
       " ('Downtown Brooklyn', 7.0071295249142545e-05),\n",
       " ('Middle Village', 6.9338196817679998e-05),\n",
       " ('Woodlawn Heights', 6.7645914589165991e-05),\n",
       " ('Pelham Bay', 6.6147034760385192e-05),\n",
       " ('Riverdale', 6.5960400462596554e-05),\n",
       " ('Bayside', 5.7323083445873685e-05),\n",
       " ('Van Nest', 5.1478090527059303e-05),\n",
       " ('Bergen Beach', 5.1091599686023268e-05),\n",
       " ('Morris Heights', 4.7625011263923786e-05),\n",
       " ('Canarsie', 4.1933270445755891e-05),\n",
       " ('McGinley Square', 3.9506023577970005e-05),\n",
       " ('Woodhaven', 3.7724792272979176e-05),\n",
       " ('Williamsbridge', 3.2308953462820723e-05),\n",
       " ('West Side', 3.1979772755816354e-05),\n",
       " ('East Shore', 3.193418752610901e-05),\n",
       " ('Allerton', 2.7805144442223209e-05),\n",
       " ('Jamaica', 2.6726450976623119e-05),\n",
       " ('Glen Oaks', 2.5543046043997041e-05),\n",
       " ('nan', 2.3662257660833002e-05),\n",
       " ('East Elmhurst', 2.3131485991623232e-05),\n",
       " ('West Farms', 2.3121444391778721e-05),\n",
       " ('Red Hook', 2.2051817298768396e-05),\n",
       " ('Central Park', 2.0538065028605655e-05),\n",
       " ('Van Cortlandt Park', 1.872149357395741e-05),\n",
       " ('Borough Park', 1.7796229325161654e-05),\n",
       " ('St. Albans', 1.7419983058681212e-05),\n",
       " ('Maspeth', 1.7318586924565257e-05),\n",
       " ('Holliswood', 1.7296283021580864e-05),\n",
       " ('Westchester Village', 1.5581030141654582e-05),\n",
       " ('The Waterfront', 1.3854565443049371e-05),\n",
       " ('Belmont', 1.3299476885507638e-05),\n",
       " ('Hunts Point', 1.2419622225956087e-05),\n",
       " ('Auburndale', 1.2325839227206102e-05),\n",
       " ('Hollis', 1.0253585994113143e-05),\n",
       " ('East Tremont', 9.3041328027226688e-06),\n",
       " ('Parkchester', 9.0485956325896801e-06),\n",
       " ('Cypress Hills', 8.6974659244578253e-06),\n",
       " ('Ozone Park', 7.1735557432777865e-06),\n",
       " ('South Shore', 5.8558025804863955e-06),\n",
       " ('Mid-Island', 4.0394419307311276e-06),\n",
       " ('Floyd Bennett Airfield', 2.5864326370481738e-06),\n",
       " ('The Heights', 9.0813597444188119e-07),\n",
       " ('College Point', 0.0),\n",
       " ('Concourse', 0.0),\n",
       " ('Greenwood Heights', 0.0),\n",
       " ('Longwood', 0.0),\n",
       " ('Morrisania', 0.0),\n",
       " ('Mount Hope', 0.0),\n",
       " ('Whitestone', 0.0)]"
      ]
     },
     "execution_count": 88,
     "metadata": {},
     "output_type": "execute_result"
    }
   ],
   "source": [
    "sorted(zip(num_feats, clf_dict[\"Random Forest\"].feature_importances_), key=operator.itemgetter(1),reverse = True)"
   ]
  },
  {
   "cell_type": "code",
   "execution_count": null,
   "metadata": {
    "collapsed": true
   },
   "outputs": [],
   "source": []
  }
 ],
 "metadata": {
  "kernelspec": {
   "display_name": "Python 2",
   "language": "python",
   "name": "python2"
  },
  "language_info": {
   "codemirror_mode": {
    "name": "ipython",
    "version": 2
   },
   "file_extension": ".py",
   "mimetype": "text/x-python",
   "name": "python",
   "nbconvert_exporter": "python",
   "pygments_lexer": "ipython2",
   "version": "2.7.13"
  }
 },
 "nbformat": 4,
 "nbformat_minor": 2
}
