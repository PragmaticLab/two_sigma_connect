{
 "cells": [
  {
   "cell_type": "code",
   "execution_count": 14,
   "metadata": {
    "collapsed": true
   },
   "outputs": [],
   "source": [
    "%matplotlib inline\n",
    "from sklearn.linear_model import LogisticRegression\n",
    "from sklearn.feature_extraction.text import TfidfVectorizer\n",
    "from sklearn.feature_extraction.text import CountVectorizer\n",
    "from sklearn.decomposition import TruncatedSVD\n",
    "import matplotlib.pyplot as plt\n",
    "import pandas as pd\n",
    "import numpy as np\n",
    "import os\n",
    "#os.chdir(\"C:/Users/jiang/Documents/kaggle\")\n",
    "os.chdir(\"../data/\")\n",
    "from sklearn.model_selection import train_test_split\n",
    "from sklearn.metrics import log_loss\n",
    "from gensim import corpora\n",
    "from gensim.models.rpmodel import RpModel"
   ]
  },
  {
   "cell_type": "code",
   "execution_count": 2,
   "metadata": {
    "collapsed": false
   },
   "outputs": [
    {
     "data": {
      "text/plain": [
       "10        A Brand New 3 Bedroom 1.5 bath ApartmentEnjoy ...\n",
       "10000                                                      \n",
       "100004    Top Top West Village location, beautiful Pre-w...\n",
       "100007    Building Amenities - Garage - Garden - fitness...\n",
       "100013    Beautifully renovated 3 bedroom flex 4 bedroom...\n",
       "Name: description, dtype: object"
      ]
     },
     "execution_count": 2,
     "metadata": {},
     "output_type": "execute_result"
    }
   ],
   "source": [
    "df = pd.read_json(\"train.json\")\n",
    "df.description.head()"
   ]
  },
  {
   "cell_type": "code",
   "execution_count": 38,
   "metadata": {
    "collapsed": true
   },
   "outputs": [],
   "source": [
    "# quick RF benchmark on validation set\n",
    "def getPerformance(X, y):\n",
    "    X_train, X_val, y_train, y_val = train_test_split(X, y, test_size=0.33)\n",
    "    print \"starting training!\"\n",
    "    clf = LogisticRegression(solver=\"newton-cg\", n_jobs=-1, verbose=3).fit(X_train, y_train)\n",
    "    return log_loss(y_val, clf.predict_proba(X_val))"
   ]
  },
  {
   "cell_type": "code",
   "execution_count": null,
   "metadata": {
    "collapsed": true
   },
   "outputs": [],
   "source": []
  },
  {
   "cell_type": "code",
   "execution_count": 23,
   "metadata": {
    "collapsed": false
   },
   "outputs": [
    {
     "name": "stdout",
     "output_type": "stream",
     "text": [
      "(49352,)\n"
     ]
    }
   ],
   "source": [
    "docs = df.description\n",
    "print docs.shape\n",
    "\n",
    "from sklearn.feature_extraction.stop_words import ENGLISH_STOP_WORDS\n",
    "texts = [[word for word in document.lower().split() if word not in ENGLISH_STOP_WORDS] for document in docs]"
   ]
  },
  {
   "cell_type": "code",
   "execution_count": 24,
   "metadata": {
    "collapsed": false
   },
   "outputs": [
    {
     "name": "stdout",
     "output_type": "stream",
     "text": [
      "49352\n"
     ]
    }
   ],
   "source": [
    "dictionary = corpora.Dictionary(texts)\n",
    "corpus = [dictionary.doc2bow(text) for text in texts]"
   ]
  },
  {
   "cell_type": "code",
   "execution_count": null,
   "metadata": {
    "collapsed": true
   },
   "outputs": [],
   "source": [
    "print dictionary."
   ]
  },
  {
   "cell_type": "code",
   "execution_count": 25,
   "metadata": {
    "collapsed": false
   },
   "outputs": [],
   "source": [
    "rp = RpModel(corpus)"
   ]
  },
  {
   "cell_type": "code",
   "execution_count": 29,
   "metadata": {
    "collapsed": false
   },
   "outputs": [
    {
     "name": "stdout",
     "output_type": "stream",
     "text": [
      "[ 1.  1.  1. -1.  1. -1. -1.  1. -1.  1. -1. -1.  1.  1. -1.  1. -1. -1.\n",
      " -1.  1. -1.  1.  1.  1. -1.  1. -1.  1.  1. -1.  1.  1.  1. -1.  1.  1.\n",
      " -1. -1.  1.  1. -1.  1. -1. -1.  1.  1. -1.  1.  1.  1. -1. -1.  1.  1.\n",
      " -1.  1. -1. -1.  1.  1.  1.  1.  1. -1.  1. -1.  1. -1. -1.  1. -1. -1.\n",
      "  1. -1.  1. -1.  1. -1.  1. -1. -1.  1. -1.  1.  1.  1. -1. -1. -1.  1.\n",
      " -1. -1. -1. -1. -1.  1.  1.  1. -1.  1. -1.  1. -1. -1. -1. -1.  1. -1.\n",
      "  1. -1.  1. -1. -1. -1.  1. -1. -1.  1. -1. -1.  1.  1. -1. -1.  1.  1.\n",
      " -1. -1.  1.  1. -1.  1. -1. -1.  1.  1.  1.  1.  1. -1. -1. -1. -1.  1.\n",
      "  1. -1. -1.  1. -1.  1.  1. -1. -1.  1. -1.  1. -1. -1.  1.  1.  1.  1.\n",
      " -1. -1. -1.  1.  1.  1.  1. -1.  1.  1. -1. -1. -1. -1.  1.  1. -1.  1.\n",
      "  1.  1. -1. -1. -1.  1. -1.  1.  1. -1.  1. -1. -1.  1.  1. -1. -1. -1.\n",
      "  1.  1.  1.  1. -1. -1. -1.  1.  1. -1. -1.  1. -1. -1.  1.  1. -1. -1.\n",
      "  1.  1.  1. -1.  1. -1.  1.  1.  1.  1.  1.  1. -1. -1. -1. -1. -1.  1.\n",
      "  1. -1.  1.  1. -1.  1. -1. -1.  1.  1.  1.  1.  1. -1. -1.  1.  1. -1.\n",
      " -1. -1. -1.  1. -1.  1. -1.  1. -1. -1.  1. -1. -1.  1.  1.  1. -1.  1.\n",
      "  1.  1.  1. -1.  1.  1. -1.  1.  1.  1. -1. -1. -1. -1. -1.  1. -1.  1.\n",
      " -1.  1.  1. -1.  1.  1.  1.  1. -1.  1.  1.  1.]\n",
      "(300, 117109)\n"
     ]
    }
   ],
   "source": [
    "print rp.projection.T[0]\n",
    "print rp.projection.shape"
   ]
  },
  {
   "cell_type": "code",
   "execution_count": 36,
   "metadata": {
    "collapsed": false
   },
   "outputs": [],
   "source": [
    "X = rp.__getitem__(corpus)"
   ]
  },
  {
   "cell_type": "code",
   "execution_count": null,
   "metadata": {
    "collapsed": true
   },
   "outputs": [],
   "source": []
  }
 ],
 "metadata": {
  "kernelspec": {
   "display_name": "Python 2",
   "language": "python",
   "name": "python2"
  },
  "language_info": {
   "codemirror_mode": {
    "name": "ipython",
    "version": 2
   },
   "file_extension": ".py",
   "mimetype": "text/x-python",
   "name": "python",
   "nbconvert_exporter": "python",
   "pygments_lexer": "ipython2",
   "version": "2.7.12"
  }
 },
 "nbformat": 4,
 "nbformat_minor": 2
}
