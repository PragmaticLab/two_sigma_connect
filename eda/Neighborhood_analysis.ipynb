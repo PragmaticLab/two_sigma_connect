{
 "cells": [
  {
   "cell_type": "markdown",
   "metadata": {},
   "source": [
    "The goal of this analysis is to find the most popular real estate neighborhood in the New York City."
   ]
  },
  {
   "cell_type": "markdown",
   "metadata": {},
   "source": [
    "step1: read all the data"
   ]
  },
  {
   "cell_type": "code",
   "execution_count": 9,
   "metadata": {
    "collapsed": true
   },
   "outputs": [],
   "source": [
    "import os\n",
    "import json\n",
    "\n",
    "\n",
    "import pandas as pd\n",
    "import numpy as np\n",
    "#os.chdir(\"C:/Users/jiang/Documents/kaggle\")\n",
    "import matplotlib.pyplot as plt\n",
    "train_df = pd.read_json(\"train.json\")\n"
   ]
  },
  {
   "cell_type": "markdown",
   "metadata": {},
   "source": [
    "step2: extract the longtitude and latitude info"
   ]
  },
  {
   "cell_type": "code",
   "execution_count": 2,
   "metadata": {
    "collapsed": true
   },
   "outputs": [],
   "source": [
    "train_coords = train_df[[\"listing_id\", \"latitude\", \"longitude\"]]\n",
    "lat= []\n",
    "lon = []\n",
    "listings = []\n",
    "\n",
    "for i, j in train_coords.iterrows():\n",
    "    lat.append(j[\"latitude\"])\n",
    "    lon.append(j[\"longitude\"])\n",
    "    listings.append(int(j[\"listing_id\"]))"
   ]
  },
  {
   "cell_type": "markdown",
   "metadata": {},
   "source": [
    "step3:identify the zipcode of the listing from the lon and lat"
   ]
  },
  {
   "cell_type": "code",
   "execution_count": 3,
   "metadata": {
    "collapsed": true
   },
   "outputs": [],
   "source": [
    "from uszipcode import ZipcodeSearchEngine\n",
    "search = ZipcodeSearchEngine()\n",
    "\n",
    "res = []\n",
    "for i in range(len(listings)):\n",
    "    try:\n",
    "        res.append([listings[i],search.by_coordinate(lat[i], lon[i], radius=1, returns=1)[0]['Zipcode']])\n",
    "    except:\n",
    "        continue\n",
    "nbd_df = pd.DataFrame(res, columns = ['listing_id','zipcode'])"
   ]
  },
  {
   "cell_type": "markdown",
   "metadata": {},
   "source": [
    "step4:get the neigborhood info from the csv file"
   ]
  },
  {
   "cell_type": "code",
   "execution_count": 5,
   "metadata": {
    "collapsed": true
   },
   "outputs": [],
   "source": [
    "zip_n = pd.read_csv(\"C:\\Users\\jiang\\Documents\\kaggle\\zip_n.csv\",header =0 )\n",
    "zip_n['zipcode'] = zip_n.apply(lambda row: str(row.zipcode), axis=1)\n"
   ]
  },
  {
   "cell_type": "markdown",
   "metadata": {},
   "source": [
    "step5:merge data together"
   ]
  },
  {
   "cell_type": "code",
   "execution_count": 10,
   "metadata": {
    "collapsed": false
   },
   "outputs": [
    {
     "data": {
      "text/plain": [
       "<matplotlib.axes._subplots.AxesSubplot at 0x34f89048>"
      ]
     },
     "execution_count": 10,
     "metadata": {},
     "output_type": "execute_result"
    }
   ],
   "source": [
    "train_df = train_df.merge(nbd_df, left_on='listing_id', right_on='listing_id', how='left')\n",
    "train_df = train_df.merge(zip_n, left_on='zipcode', right_on='zipcode', how='left')\n",
    "\n",
    "train_df['interest'] = train_df.interest_level == 'high'\n",
    "interest_high = train_df.groupby('neighborhood')['interest'].mean()\n",
    "list_count = train_df.groupby('neighborhood')['neighborhood'].count()\n",
    "  "
   ]
  },
  {
   "cell_type": "markdown",
   "metadata": {},
   "source": [
    "step5:print the top 5 neighborhood. There are a few neighborhood with very few listing, which may inflate the ratio of high interest listing. I am only looking at neighborhood with more than 100 listing."
   ]
  },
  {
   "cell_type": "code",
   "execution_count": 11,
   "metadata": {
    "collapsed": false,
    "scrolled": true
   },
   "outputs": [
    {
     "data": {
      "text/plain": [
       "neighborhood\n",
       "Kew Gardens             0.283019\n",
       "Crown Heights North     0.267241\n",
       "Beverley Square West    0.192893\n",
       "Flatbush                0.192893\n",
       "Ditmas Park West        0.192893\n",
       "Name: interest, dtype: float64"
      ]
     },
     "execution_count": 11,
     "metadata": {},
     "output_type": "execute_result"
    }
   ],
   "source": [
    "interest_high[list_count > 100].sort_values(ascending=False).head(5)"
   ]
  },
  {
   "cell_type": "code",
   "execution_count": 13,
   "metadata": {
    "collapsed": false
   },
   "outputs": [
    {
     "data": {
      "image/png": "[encoded data removed]",
      "text/plain": [
       "<matplotlib.figure.Figure at 0x28ce7f60>"
      ]
     },
     "metadata": {},
     "output_type": "display_data"
    }
   ],
   "source": [
    "interest_high[list_count > 100].sort_values(ascending=False).head(5).plot()  \n",
    "plt.show()"
   ]
  },
  {
   "cell_type": "code",
   "execution_count": null,
   "metadata": {
    "collapsed": true
   },
   "outputs": [],
   "source": []
  }
 ],
 "metadata": {
  "kernelspec": {
   "display_name": "Python 2",
   "language": "python",
   "name": "python2"
  },
  "language_info": {
   "codemirror_mode": {
    "name": "ipython",
    "version": 2
   },
   "file_extension": ".py",
   "mimetype": "text/x-python",
   "name": "python",
   "nbconvert_exporter": "python",
   "pygments_lexer": "ipython2",
   "version": "2.7.13"
  }
 },
 "nbformat": 4,
 "nbformat_minor": 2
}
