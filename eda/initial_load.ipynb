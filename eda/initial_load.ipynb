{
 "cells": [
  {
   "cell_type": "markdown",
   "metadata": {},
   "source": [
    "# Ideas\n",
    "\n",
    "* feature engineering\n",
    "    * county (e.g. brooklyn) [here](https://www.kaggle.com/shubh24/two-sigma-connect-rental-listing-inquiries/neighborhood-as-factor-reverse-geocoding) [here](https://www.kaggle.com/luisblanche/two-sigma-connect-rental-listing-inquiries/neighborhoods-instead-of-lat-long)\n",
    "    * key word extraction from features field\n",
    "    * image features [example](https://www.kaggle.com/torrinos/two-sigma-connect-rental-listing-inquiries/image-processing-and-sentiment-analysis)"
   ]
  },
  {
   "cell_type": "markdown",
   "metadata": {},
   "source": [
    "## Good eda links\n",
    "\n",
    "* [nb](https://www.kaggle.com/sudalairajkumar/two-sigma-connect-rental-listing-inquiries/simple-exploration-notebook-2-connect)"
   ]
  },
  {
   "cell_type": "code",
   "execution_count": 70,
   "metadata": {
    "collapsed": false
   },
   "outputs": [],
   "source": [
    "%matplotlib inline\n",
    "import numpy as np\n",
    "import pandas as pd\n",
    "import json\n",
    "import seaborn as sns\n",
    "import matplotlib.pylab as plt\n",
    "from pandasql import sqldf"
   ]
  },
  {
   "cell_type": "code",
   "execution_count": null,
   "metadata": {
    "collapsed": true
   },
   "outputs": [],
   "source": []
  },
  {
   "cell_type": "code",
   "execution_count": 3,
   "metadata": {
    "collapsed": true
   },
   "outputs": [],
   "source": [
    "train_df = pd.read_json(\"../data/train.json\")\n",
    "test_df = pd.read_json(\"../data/test.json\")\n",
    "train_test = pd.concat([train_df, test_df], 0)"
   ]
  },
  {
   "cell_type": "code",
   "execution_count": 6,
   "metadata": {
    "collapsed": false
   },
   "outputs": [
    {
     "data": {
      "text/plain": [
       "Index([u'bathrooms', u'bedrooms', u'building_id', u'created', u'description',\n",
       "       u'display_address', u'features', u'interest_level', u'latitude',\n",
       "       u'listing_id', u'longitude', u'manager_id', u'photos', u'price',\n",
       "       u'street_address'],\n",
       "      dtype='object')"
      ]
     },
     "execution_count": 6,
     "metadata": {},
     "output_type": "execute_result"
    }
   ],
   "source": [
    "train_df.columns"
   ]
  },
  {
   "cell_type": "code",
   "execution_count": 5,
   "metadata": {
    "collapsed": false
   },
   "outputs": [
    {
     "data": {
      "text/html": [
       "<div>\n",
       "<table border=\"1\" class=\"dataframe\">\n",
       "  <thead>\n",
       "    <tr style=\"text-align: right;\">\n",
       "      <th></th>\n",
       "      <th>bathrooms</th>\n",
       "      <th>bedrooms</th>\n",
       "      <th>latitude</th>\n",
       "      <th>listing_id</th>\n",
       "      <th>longitude</th>\n",
       "      <th>price</th>\n",
       "    </tr>\n",
       "  </thead>\n",
       "  <tbody>\n",
       "    <tr>\n",
       "      <th>count</th>\n",
       "      <td>49352.00000</td>\n",
       "      <td>49352.000000</td>\n",
       "      <td>49352.000000</td>\n",
       "      <td>4.935200e+04</td>\n",
       "      <td>49352.000000</td>\n",
       "      <td>4.935200e+04</td>\n",
       "    </tr>\n",
       "    <tr>\n",
       "      <th>mean</th>\n",
       "      <td>1.21218</td>\n",
       "      <td>1.541640</td>\n",
       "      <td>40.741545</td>\n",
       "      <td>7.024055e+06</td>\n",
       "      <td>-73.955716</td>\n",
       "      <td>3.830174e+03</td>\n",
       "    </tr>\n",
       "    <tr>\n",
       "      <th>std</th>\n",
       "      <td>0.50142</td>\n",
       "      <td>1.115018</td>\n",
       "      <td>0.638535</td>\n",
       "      <td>1.262746e+05</td>\n",
       "      <td>1.177912</td>\n",
       "      <td>2.206687e+04</td>\n",
       "    </tr>\n",
       "    <tr>\n",
       "      <th>min</th>\n",
       "      <td>0.00000</td>\n",
       "      <td>0.000000</td>\n",
       "      <td>0.000000</td>\n",
       "      <td>6.811957e+06</td>\n",
       "      <td>-118.271000</td>\n",
       "      <td>4.300000e+01</td>\n",
       "    </tr>\n",
       "    <tr>\n",
       "      <th>25%</th>\n",
       "      <td>1.00000</td>\n",
       "      <td>1.000000</td>\n",
       "      <td>40.728300</td>\n",
       "      <td>6.915888e+06</td>\n",
       "      <td>-73.991700</td>\n",
       "      <td>2.500000e+03</td>\n",
       "    </tr>\n",
       "    <tr>\n",
       "      <th>50%</th>\n",
       "      <td>1.00000</td>\n",
       "      <td>1.000000</td>\n",
       "      <td>40.751800</td>\n",
       "      <td>7.021070e+06</td>\n",
       "      <td>-73.977900</td>\n",
       "      <td>3.150000e+03</td>\n",
       "    </tr>\n",
       "    <tr>\n",
       "      <th>75%</th>\n",
       "      <td>1.00000</td>\n",
       "      <td>2.000000</td>\n",
       "      <td>40.774300</td>\n",
       "      <td>7.128733e+06</td>\n",
       "      <td>-73.954800</td>\n",
       "      <td>4.100000e+03</td>\n",
       "    </tr>\n",
       "    <tr>\n",
       "      <th>max</th>\n",
       "      <td>10.00000</td>\n",
       "      <td>8.000000</td>\n",
       "      <td>44.883500</td>\n",
       "      <td>7.753784e+06</td>\n",
       "      <td>0.000000</td>\n",
       "      <td>4.490000e+06</td>\n",
       "    </tr>\n",
       "  </tbody>\n",
       "</table>\n",
       "</div>"
      ],
      "text/plain": [
       "         bathrooms      bedrooms      latitude    listing_id     longitude  \\\n",
       "count  49352.00000  49352.000000  49352.000000  4.935200e+04  49352.000000   \n",
       "mean       1.21218      1.541640     40.741545  7.024055e+06    -73.955716   \n",
       "std        0.50142      1.115018      0.638535  1.262746e+05      1.177912   \n",
       "min        0.00000      0.000000      0.000000  6.811957e+06   -118.271000   \n",
       "25%        1.00000      1.000000     40.728300  6.915888e+06    -73.991700   \n",
       "50%        1.00000      1.000000     40.751800  7.021070e+06    -73.977900   \n",
       "75%        1.00000      2.000000     40.774300  7.128733e+06    -73.954800   \n",
       "max       10.00000      8.000000     44.883500  7.753784e+06      0.000000   \n",
       "\n",
       "              price  \n",
       "count  4.935200e+04  \n",
       "mean   3.830174e+03  \n",
       "std    2.206687e+04  \n",
       "min    4.300000e+01  \n",
       "25%    2.500000e+03  \n",
       "50%    3.150000e+03  \n",
       "75%    4.100000e+03  \n",
       "max    4.490000e+06  "
      ]
     },
     "execution_count": 5,
     "metadata": {},
     "output_type": "execute_result"
    }
   ],
   "source": [
    "train_df.describe()"
   ]
  },
  {
   "cell_type": "code",
   "execution_count": 104,
   "metadata": {
    "collapsed": false
   },
   "outputs": [
    {
     "data": {
      "text/plain": [
       "bathrooms                                                                   1\n",
       "bedrooms                                                                    3\n",
       "building_id                                  ce6d18bf3238e668b2bf23f4110b7b67\n",
       "created                                                   2016-04-04 19:46:30\n",
       "description                 -----NO FEE, 1 MO FREE-----\\r\\rThis 3BR has gr...\n",
       "display_address                                                   John Street\n",
       "features                    [Common Outdoor Space, Cats Allowed, Dogs Allo...\n",
       "interest_level                                                            low\n",
       "latitude                                                              40.7078\n",
       "listing_id                                                            6822479\n",
       "longitude                                                             -74.006\n",
       "manager_id                                   ef20d40b528500037e37b167787ac089\n",
       "photos                      [https://photos.renthop.com/2/6822479_e4945eea...\n",
       "price                                                                    3678\n",
       "street_address                                                100 John Street\n",
       "date_created                                                       2016-04-04\n",
       "hour_created                                                               19\n",
       "days_since_beginning                                          3 days 00:00:00\n",
       "days_since_beginning_int                                                    3\n",
       "Name: 111469, dtype: object"
      ]
     },
     "execution_count": 104,
     "metadata": {},
     "output_type": "execute_result"
    }
   ],
   "source": [
    "train_df.iloc[5020]"
   ]
  },
  {
   "cell_type": "raw",
   "metadata": {},
   "source": []
  },
  {
   "cell_type": "code",
   "execution_count": 19,
   "metadata": {
    "collapsed": false
   },
   "outputs": [
    {
     "data": {
      "text/plain": [
       "0"
      ]
     },
     "execution_count": 19,
     "metadata": {},
     "output_type": "execute_result"
    }
   ],
   "source": [
    "np.sum(train_df.isnull().any(axis=1)) # there are no nulls"
   ]
  },
  {
   "cell_type": "code",
   "execution_count": 12,
   "metadata": {
    "collapsed": false
   },
   "outputs": [
    {
     "data": {
      "text/plain": [
       "10        7211212\n",
       "10000     7150865\n",
       "100004    6887163\n",
       "100007    6888711\n",
       "100013    6934781\n",
       "Name: listing_id, dtype: int64"
      ]
     },
     "execution_count": 12,
     "metadata": {},
     "output_type": "execute_result"
    }
   ],
   "source": [
    "train_df.listing_id.head()"
   ]
  },
  {
   "cell_type": "markdown",
   "metadata": {},
   "source": [
    "# Interest Level"
   ]
  },
  {
   "cell_type": "code",
   "execution_count": 30,
   "metadata": {
    "collapsed": false
   },
   "outputs": [
    {
     "data": {
      "text/plain": [
       "array([u'medium', u'low', u'high'], dtype=object)"
      ]
     },
     "execution_count": 30,
     "metadata": {},
     "output_type": "execute_result"
    }
   ],
   "source": [
    "train_df.interest_level.unique()"
   ]
  },
  {
   "cell_type": "code",
   "execution_count": 32,
   "metadata": {
    "collapsed": false
   },
   "outputs": [
    {
     "data": {
      "text/plain": [
       "low       34284\n",
       "medium    11229\n",
       "high       3839\n",
       "Name: interest_level, dtype: int64"
      ]
     },
     "execution_count": 32,
     "metadata": {},
     "output_type": "execute_result"
    }
   ],
   "source": [
    "train_df.interest_level.value_counts()"
   ]
  },
  {
   "cell_type": "code",
   "execution_count": null,
   "metadata": {
    "collapsed": true
   },
   "outputs": [],
   "source": []
  },
  {
   "cell_type": "markdown",
   "metadata": {},
   "source": [
    "# Price"
   ]
  },
  {
   "cell_type": "code",
   "execution_count": 48,
   "metadata": {
    "collapsed": true
   },
   "outputs": [],
   "source": [
    "train_df.log_price = np.log10(train_df.price)"
   ]
  },
  {
   "cell_type": "code",
   "execution_count": 49,
   "metadata": {
    "collapsed": false
   },
   "outputs": [
    {
     "data": {
      "text/plain": [
       "<matplotlib.axes._subplots.AxesSubplot at 0x10f7dc9d0>"
      ]
     },
     "execution_count": 49,
     "metadata": {},
     "output_type": "execute_result"
    },
    {
     "data": {
      "image/png": "[encoded data removed]",
      "text/plain": [
       "<matplotlib.figure.Figure at 0x10f7e7210>"
      ]
     },
     "metadata": {},
     "output_type": "display_data"
    }
   ],
   "source": [
    "sns.kdeplot(train_df.price)"
   ]
  },
  {
   "cell_type": "code",
   "execution_count": 50,
   "metadata": {
    "collapsed": false
   },
   "outputs": [
    {
     "data": {
      "text/plain": [
       "<matplotlib.axes._subplots.AxesSubplot at 0x10f896dd0>"
      ]
     },
     "execution_count": 50,
     "metadata": {},
     "output_type": "execute_result"
    },
    {
     "data": {
      "image/png": "[encoded data removed]",
      "text/plain": [
       "<matplotlib.figure.Figure at 0x10f8a0950>"
      ]
     },
     "metadata": {},
     "output_type": "display_data"
    }
   ],
   "source": [
    "sns.kdeplot(train_df.log_price)"
   ]
  },
  {
   "cell_type": "code",
   "execution_count": 51,
   "metadata": {
    "collapsed": false
   },
   "outputs": [
    {
     "data": {
      "text/plain": [
       "<matplotlib.axes._subplots.AxesSubplot at 0x10a8c39d0>"
      ]
     },
     "execution_count": 51,
     "metadata": {},
     "output_type": "execute_result"
    },
    {
     "data": {
      "image/png": "[encoded data removed]",
      "text/plain": [
       "<matplotlib.figure.Figure at 0x10a8cdfd0>"
      ]
     },
     "metadata": {},
     "output_type": "display_data"
    }
   ],
   "source": [
    "sns.boxplot(x='interest_level', y='price', data=train_df[train_df.price <= 30000])"
   ]
  },
  {
   "cell_type": "code",
   "execution_count": 52,
   "metadata": {
    "collapsed": false
   },
   "outputs": [
    {
     "data": {
      "text/plain": [
       "<matplotlib.axes._subplots.AxesSubplot at 0x10fb87f50>"
      ]
     },
     "execution_count": 52,
     "metadata": {},
     "output_type": "execute_result"
    },
    {
     "data": {
      "image/png": "[encoded data removed]",
      "text/plain": [
       "<matplotlib.figure.Figure at 0x10fa29050>"
      ]
     },
     "metadata": {},
     "output_type": "display_data"
    }
   ],
   "source": [
    "sns.boxplot(x=train_df.interest_level, y=train_df.log_price)"
   ]
  },
  {
   "cell_type": "markdown",
   "metadata": {},
   "source": [
    "# Features"
   ]
  },
  {
   "cell_type": "code",
   "execution_count": 53,
   "metadata": {
    "collapsed": false
   },
   "outputs": [
    {
     "data": {
      "text/plain": [
       "10                                                       []\n",
       "10000     [Doorman, Elevator, Fitness Center, Cats Allow...\n",
       "100004    [Laundry In Building, Dishwasher, Hardwood Flo...\n",
       "100007                            [Hardwood Floors, No Fee]\n",
       "100013                                            [Pre-War]\n",
       "100014                                                   []\n",
       "100016    [prewar, elevator, Dogs Allowed, Cats Allowed,...\n",
       "100020    [Doorman, Elevator, Pre-War, Terrace, Laundry ...\n",
       "100026    [Cats Allowed, Dogs Allowed, Elevator, Laundry...\n",
       "100027                        [Dishwasher, Hardwood Floors]\n",
       "100030                                                   []\n",
       "10004     [prewar, dishwasher, HIGHRISE, ROOFDECK, EAT I...\n",
       "100044     [Doorman, Elevator, Laundry in Building, No Fee]\n",
       "100048    [Swimming Pool, Doorman, Fitness Center, No Fe...\n",
       "10005     [Elevator, Multi-Level, Laundry in Building, D...\n",
       "100051    [Doorman, Elevator, Fitness Center, Laundry in...\n",
       "100052                                    [Hardwood Floors]\n",
       "100053    [prewar, LOWRISE, EAT IN KITCHEN, SIMPLEX, HAR...\n",
       "100055                 [No Fee, Cats Allowed, Dogs Allowed]\n",
       "100058                         [Cats Allowed, Dogs Allowed]\n",
       "100062     [Doorman, Elevator, Dishwasher, Hardwood Floors]\n",
       "100063    [Elevator, Central A/C, Walk in Closet(s), Par...\n",
       "100065                         [Cats Allowed, Dogs Allowed]\n",
       "100066    [Doorman, Fitness Center, Pool, Elevator, Publ...\n",
       "10007     [Balcony, Doorman, Elevator, Fitness Center, T...\n",
       "100071    [Roof Deck, Dining Room, Balcony, Doorman, Ele...\n",
       "100075                [Dishwasher, Hardwood Floors, No Fee]\n",
       "100076    [Roof Deck, Doorman, Elevator, Laundry in Buil...\n",
       "100079                                                   []\n",
       "100081    [Doorman, Elevator, Fitness Center, Pre-War, L...\n",
       "                                ...                        \n",
       "99915     [Swimming Pool, Doorman, Fitness Center, Dogs ...\n",
       "99917     [Cats Allowed, Dogs Allowed, Doorman, Elevator...\n",
       "99919     [Elevator, Laundry in Building, Laundry in Uni...\n",
       "99921                          [Furnished, Laundry In Unit]\n",
       "99923        [Doorman, Pre-War, Dogs Allowed, Cats Allowed]\n",
       "99924     [Doorman, Laundry in Building, Laundry in Unit...\n",
       "99931                          [Dogs Allowed, Cats Allowed]\n",
       "99933     [Roof Deck, Dining Room, Doorman, Elevator, Fi...\n",
       "99935                                                    []\n",
       "99937     [Pre-War, Laundry in Building, Dishwasher, Har...\n",
       "9994         [Doorman, Pre-War, Dogs Allowed, Cats Allowed]\n",
       "99953     [Doorman, Elevator, Furnished, Pre-War, Dishwa...\n",
       "99956     [Common Outdoor Space, Cats Allowed, Dogs Allo...\n",
       "99960                                     [Hardwood Floors]\n",
       "99961     [Doorman, Elevator, Laundry in Building, Dishw...\n",
       "99964      [Loft, Multi-Level, Dishwasher, Hardwood Floors]\n",
       "99965     [Swimming Pool, Dining Room, Doorman, Elevator...\n",
       "99966     [Roof Deck, Doorman, Elevator, Fitness Center,...\n",
       "99979                                                    []\n",
       "99980     [Common Outdoor Space, Cats Allowed, Dogs Allo...\n",
       "99982     [Doorman, Elevator, Fitness Center, Laundry in...\n",
       "99984     [Elevator, Multi-Level, Dishwasher, Hardwood F...\n",
       "99986                           [Elevator, Hardwood Floors]\n",
       "99987                                          [Dishwasher]\n",
       "99988     [Cats Allowed, No Fee, Doorman, Elevator, Laun...\n",
       "9999      [Elevator, Laundry in Building, Laundry in Uni...\n",
       "99991     [Common Outdoor Space, Cats Allowed, Dogs Allo...\n",
       "99992     [Doorman, Elevator, Pre-War, Dogs Allowed, Cat...\n",
       "99993     [Doorman, Elevator, Pre-War, Dogs Allowed, Cat...\n",
       "99994                                     [Hardwood Floors]\n",
       "Name: features, dtype: object"
      ]
     },
     "execution_count": 53,
     "metadata": {},
     "output_type": "execute_result"
    }
   ],
   "source": [
    "train_df.features"
   ]
  },
  {
   "cell_type": "markdown",
   "metadata": {},
   "source": [
    "# Bathrooms"
   ]
  },
  {
   "cell_type": "code",
   "execution_count": 16,
   "metadata": {
    "collapsed": false
   },
   "outputs": [
    {
     "data": {
      "text/plain": [
       "array([  1.5,   1. ,   2. ,   3.5,   3. ,   2.5,   0. ,   4. ,   4.5,\n",
       "        10. ,   5. ,   6. ,   6.5,   5.5,   7. ])"
      ]
     },
     "execution_count": 16,
     "metadata": {},
     "output_type": "execute_result"
    }
   ],
   "source": [
    "train_df.bathrooms.unique()"
   ]
  },
  {
   "cell_type": "markdown",
   "metadata": {},
   "source": [
    "# Created"
   ]
  },
  {
   "cell_type": "code",
   "execution_count": 55,
   "metadata": {
    "collapsed": false
   },
   "outputs": [
    {
     "data": {
      "text/plain": [
       "10        2016-06-24 07:54:24\n",
       "10000     2016-06-12 12:19:27\n",
       "100004    2016-04-17 03:26:41\n",
       "100007    2016-04-18 02:22:02\n",
       "100013    2016-04-28 01:32:41\n",
       "Name: created, dtype: object"
      ]
     },
     "execution_count": 55,
     "metadata": {},
     "output_type": "execute_result"
    }
   ],
   "source": [
    "train_df.created.head()"
   ]
  },
  {
   "cell_type": "code",
   "execution_count": 65,
   "metadata": {
    "collapsed": false
   },
   "outputs": [
    {
     "data": {
      "image/png": "[encoded data removed]",
      "text/plain": [
       "<matplotlib.figure.Figure at 0x1110fd5d0>"
      ]
     },
     "metadata": {},
     "output_type": "display_data"
    }
   ],
   "source": [
    "train_df[\"created\"] = pd.to_datetime(train_df[\"created\"])\n",
    "train_df[\"date_created\"] = train_df[\"created\"].dt.date\n",
    "cnt_srs = train_df['date_created'].value_counts()\n",
    "\n",
    "test_df[\"created\"] = pd.to_datetime(test_df[\"created\"])\n",
    "test_df[\"date_created\"] = test_df[\"created\"].dt.date\n",
    "\n",
    "plt.figure(figsize=(12,4))\n",
    "ax = plt.subplot(111)\n",
    "ax.bar(cnt_srs.index, cnt_srs.values, alpha=0.8)\n",
    "ax.xaxis_date()\n",
    "plt.xticks(rotation='vertical')\n",
    "plt.show()"
   ]
  },
  {
   "cell_type": "code",
   "execution_count": 66,
   "metadata": {
    "collapsed": false
   },
   "outputs": [
    {
     "name": "stdout",
     "output_type": "stream",
     "text": [
      "2016-04-01\n",
      "2016-06-29\n",
      "2016-04-01\n",
      "2016-06-29\n"
     ]
    }
   ],
   "source": [
    "print train_df.date_created.min()\n",
    "print train_df.date_created.max()\n",
    "\n",
    "print test_df.date_created.min()\n",
    "print test_df.date_created.max()"
   ]
  },
  {
   "cell_type": "code",
   "execution_count": 68,
   "metadata": {
    "collapsed": false
   },
   "outputs": [
    {
     "data": {
      "image/png": "[encoded data removed]",
      "text/plain": [
       "<matplotlib.figure.Figure at 0x10f788610>"
      ]
     },
     "metadata": {},
     "output_type": "display_data"
    }
   ],
   "source": [
    "train_df[\"hour_created\"] = train_df[\"created\"].dt.hour\n",
    "cnt_srs = train_df['hour_created'].value_counts()\n",
    "\n",
    "plt.figure(figsize=(12,6))\n",
    "sns.barplot(cnt_srs.index, cnt_srs.values, alpha=0.8)\n",
    "plt.xticks(rotation='vertical')\n",
    "plt.show()"
   ]
  },
  {
   "cell_type": "code",
   "execution_count": 97,
   "metadata": {
    "collapsed": false
   },
   "outputs": [],
   "source": [
    "min_date = train_df.date_created.min()\n",
    "train_df['days_since_beginning'] = train_df.date_created - min_date\n",
    "train_df['days_since_beginning_int'] = train_df.apply(lambda row: int(row.days_since_beginning.days), axis=1)\n",
    "\n",
    "\n"
   ]
  },
  {
   "cell_type": "code",
   "execution_count": null,
   "metadata": {
    "collapsed": true
   },
   "outputs": [],
   "source": []
  },
  {
   "cell_type": "code",
   "execution_count": null,
   "metadata": {
    "collapsed": true
   },
   "outputs": [],
   "source": []
  }
 ],
 "metadata": {
  "kernelspec": {
   "display_name": "Python 2",
   "language": "python",
   "name": "python2"
  },
  "language_info": {
   "codemirror_mode": {
    "name": "ipython",
    "version": 2
   },
   "file_extension": ".py",
   "mimetype": "text/x-python",
   "name": "python",
   "nbconvert_exporter": "python",
   "pygments_lexer": "ipython2",
   "version": "2.7.12"
  }
 },
 "nbformat": 4,
 "nbformat_minor": 2
}
